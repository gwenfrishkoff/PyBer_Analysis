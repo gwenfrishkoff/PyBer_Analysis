{
 "cells": [
  {
   "cell_type": "markdown",
   "metadata": {},
   "source": [
    "# Instructor Turn  - 01-  Plot Reviews - 👩‍🏫🧑‍🏫"
   ]
  },
  {
   "cell_type": "markdown",
   "metadata": {},
   "source": [
    "# Instructor Plots Review\n",
    "\n",
    "## Instructions\n",
    "\n",
    "* What kinds of plots match the datasets below?\n",
    "\n",
    "\n",
    "```\n",
    "# Data Set 1\n",
    "gyms = [\"Crunch\", \"Planet Fitness\", \"NY Sports Club\", \"Rickie's Gym\"]\n",
    "members = [49, 92, 84, 53]\n",
    "\n",
    "# Data Set 2\n",
    "seconds = [0,  10,  20,  30,  40,  50,  60,  70,  80,  90, 100, 110, 120, 130, 140, 150]\n",
    "coaster_speed = [0, 10, 15, 65, 75, 70, 60, 68, 55, 70, 70, 55, 50, 30, 10, 0]\n",
    "\n",
    "# Data Set 3\n",
    "mpg = [18, 15, 18, 16, 17, 15, 14, 14, 14, 15, 15, 14, 15, \n",
    "       14, 24, 22, 18, 21, 27, 26, 25, 24, 25, 26, 21, 10, 10, 11, 9]\n",
    "horsepower = [130, 165, 150, 150, 140, 198, 220, 215, 225, 190, 170, 160, 150, \n",
    "              225, 95, 95, 97, 85,88, 46, 87, 90, 95, 113, 90, 215, 200, 210, 193]\n",
    "\n",
    "```\n",
    "\n",
    "* Create a plot for each of the datasets above, making certain to provide each chart with a title and labels"
   ]
  },
  {
   "cell_type": "code",
   "execution_count": null,
   "metadata": {},
   "outputs": [],
   "source": []
  },
  {
   "cell_type": "code",
   "execution_count": null,
   "metadata": {},
   "outputs": [],
   "source": [
    "# Import Dependencies\n",
    "import numpy as np\n",
    "import matplotlib.pyplot as plt"
   ]
  },
  {
   "cell_type": "code",
   "execution_count": null,
   "metadata": {},
   "outputs": [],
   "source": [
    "# Data Set 1\n",
    "gyms = [\"Crunch\", \"Planet Fitness\", \"NY Sports Club\", \"Rickie's Gym\"]\n",
    "members = [49, 92, 84, 53]\n",
    "\n",
    "# Create a basic bar chart without annotations. \n",
    "x_axis = np.arange(0, len(gyms))\n",
    "plt.bar(x_axis, members)\n",
    "\n",
    "\n",
    "# Data Set 1 - Bar chart\n",
    "x_axis = np.arange(0, len(gyms))\n",
    "tick_locations = [] #note: in newer version of matplotlib, don't need this section to specify tick_locations\n",
    "for x in x_axis:\n",
    "    tick_locations.append(x)\n",
    "\n",
    "plt.title(\"NYC Gym Popularity\")\n",
    "plt.xlabel(\"Gym Name\")\n",
    "plt.ylabel(\"Number of Members\")\n",
    "plt.xlim(-0.75, len(gyms)-.25)\n",
    "plt.ylim(0, max(members) + 5)\n",
    "\n",
    "plt.bar(x_axis, members, facecolor=\"red\")\n",
    "plt.xticks(tick_locations, gyms)\n",
    "plt.show()"
   ]
  },
  {
   "cell_type": "code",
   "execution_count": null,
   "metadata": {},
   "outputs": [],
   "source": [
    "# Data Set 1 - Pie chart \n",
    "plt.pie(members, labels=gyms)\n",
    "plt.show()"
   ]
  },
  {
   "cell_type": "code",
   "execution_count": null,
   "metadata": {},
   "outputs": [],
   "source": [
    "# Data Set 1 - Pie chart \n",
    "gyms = [\"Crunch\", \"Planet Fitness\", \"NY Sports Club\", \"Rickie's Gym\"]\n",
    "members = [49, 92, 84, 53]\n",
    "colors = [\"yellowgreen\", \"red\", \"lightcoral\", \"lightskyblue\"]\n",
    "explode = (0, 0.05, 0, 0)\n",
    "\n",
    "plt.title(\"NYC Gym Popularity\")\n",
    "plt.pie(members, explode=explode, colors=colors,\n",
    "        labels=gyms, autopct=\"%1.1f%%\", startangle=90)\n",
    "plt.axis(\"equal\")\n",
    "plt.show()"
   ]
  },
  {
   "cell_type": "code",
   "execution_count": null,
   "metadata": {},
   "outputs": [],
   "source": [
    "# Data Set 2\n",
    "seconds = [0,  10,  20,  30,  40,  50,  60,  70,  80,  90, 100, 110, 120, 130, 140, 150]\n",
    "coaster_speed = [0, 10, 15, 65, 75, 70, 60, 68, 55, 70, 70, 55, 50, 30, 10, 0]\n",
    "\n",
    "# Data Set 2 - Basic Line chart \n",
    "plt.plot(seconds, coaster_speed)\n",
    "\n",
    "# Data Set 2 - Enhanced Line chart \n",
    "plt.title(\"Roller Coaster Speed During Run\")\n",
    "plt.xlabel(\"Speed (mph)\")\n",
    "plt.ylabel(\"Time (secs)\")\n",
    "\n",
    "plt.xlim(-5, 160)\n",
    "plt.ylim(-5, 80)\n",
    "\n",
    "plt.plot(seconds, coaster_speed, marker=\"o\", color=\"blue\", linewidth=1)\n",
    "plt.show()"
   ]
  },
  {
   "cell_type": "code",
   "execution_count": null,
   "metadata": {},
   "outputs": [],
   "source": [
    "# Data Set 3\n",
    "mpg = [18, 15, 18, 16, 17, 15, 14, 14, 14, 15, 15, 14, 15, \n",
    "       14, 24, 22, 18, 21, 27, 26, 25, 24, 25, 26, 21, 10, 10, 11, 9]\n",
    "horsepower = [130, 165, 150, 150, 140, 198, 220, 215, 225, 190, 170, 160, 150, \n",
    "              225, 95, 95, 97, 85,88, 46, 87, 90, 95, 113, 90, 215, 200, 210, 193]\n",
    "\n",
    "# Data Set 3 - Basic Scatter chart \n",
    "plt.scatter(mpg, horsepower)\n",
    "\n",
    "# Data Set 3 - Enhanced Scatter chart \n",
    "plt.title(\"Car MPG vs Horsepower\")\n",
    "plt.xlabel(\"Horsepower\")\n",
    "plt.ylabel(\"MPG\")\n",
    "\n",
    "plt.xlim(0, 250)\n",
    "plt.ylim(5, 35)\n",
    "\n",
    "plt.scatter(horsepower, mpg)\n",
    "plt.show()"
   ]
  },
  {
   "cell_type": "code",
   "execution_count": null,
   "metadata": {},
   "outputs": [],
   "source": [
    "cylinders  = [8, 8, 8, 8, 8, 8, 8, 8, 8, 8, 8, 8, 8, 8, \n",
    "              4, 6, 6, 6, 4, 4, 4, 4, 4, 4, 6, 8, 8, 8, 8]\n",
    "cylinders_adj = [item * 10 for item in cylinders] #list comprehension (one line for-loop -- unique to python; \n",
    "                                                    #looping through cylinders, performant!)\n",
    "\n",
    "#above line same as: \n",
    "#cylinders_adj=[]\n",
    "#for item in cylinders:\n",
    "#    cylinders_adj.append(item*10)\n",
    "    \n",
    "# Data Set 3 - Enhanced Scatter chart \n",
    "plt.title(\"Car MPG vs Horsepower\")\n",
    "plt.xlabel(\"Horsepower\")\n",
    "plt.ylabel(\"MPG\")\n",
    "\n",
    "plt.xlim(0, 250)\n",
    "plt.ylim(5, 35)\n",
    "\n",
    "plt.scatter(horsepower, mpg, marker=\"o\", facecolors=\"red\", edgecolors=\"black\",\n",
    "            s=cylinders_adj, label=\"No. Cylinders\")\n",
    "plt.legend()\n",
    "plt.show()"
   ]
  },
  {
   "cell_type": "markdown",
   "metadata": {},
   "source": [
    "# Instructor Turn - 02 - Pandas Plot - 👩‍🏫🧑‍🏫"
   ]
  },
  {
   "cell_type": "code",
   "execution_count": null,
   "metadata": {},
   "outputs": [],
   "source": [
    "%matplotlib notebook"
   ]
  },
  {
   "cell_type": "code",
   "execution_count": null,
   "metadata": {},
   "outputs": [],
   "source": [
    "# Dependencies\n",
    "import matplotlib.pyplot as plt\n",
    "import numpy as np\n",
    "import pandas as pd"
   ]
  },
  {
   "cell_type": "code",
   "execution_count": null,
   "metadata": {},
   "outputs": [],
   "source": [
    "# Load in csv\n",
    "rain_df = pd.read_csv(\"./Resources/avg_rain_state.csv\")\n",
    "rain_df.head()"
   ]
  },
  {
   "cell_type": "code",
   "execution_count": null,
   "metadata": {},
   "outputs": [],
   "source": [
    "# Set x axis and tick locations\n",
    "x_axis = np.arange(len(rain_df))\n",
    "tick_locations = [value for value in x_axis]"
   ]
  },
  {
   "cell_type": "code",
   "execution_count": null,
   "metadata": {},
   "outputs": [],
   "source": [
    "# Create a list indicating where to write x labels and set figure size to adjust for space\n",
    "plt.figure(figsize=(10,3))\n",
    "plt.bar(x_axis, rain_df[\"Inches\"], color='r', alpha=0.5, align=\"center\") #rain_df[\"Inches\"] --> series (index, value)\n",
    "plt.xticks(tick_locations, rain_df[\"State\"], rotation=\"vertical\")"
   ]
  },
  {
   "cell_type": "code",
   "execution_count": null,
   "metadata": {},
   "outputs": [],
   "source": [
    "# Set x and y limits (interactive mode)\n",
    "plt.xlim(-0.75, len(x_axis))\n",
    "plt.ylim(0, max(rain_df[\"Inches\"])+10)"
   ]
  },
  {
   "cell_type": "code",
   "execution_count": null,
   "metadata": {},
   "outputs": [],
   "source": [
    "# Set a Title and labels  (interactive mode)\n",
    "plt.title(\"Average Rain per State\")\n",
    "plt.xlabel(\"State\")\n",
    "plt.ylabel(\"Average Amount of Rainfall in Inches\")"
   ]
  },
  {
   "cell_type": "code",
   "execution_count": null,
   "metadata": {},
   "outputs": [],
   "source": [
    "# Save our graph and show the graph\n",
    "plt.tight_layout()\n",
    "plt.savefig(\"./output/avg_state_rain.png\")\n",
    "plt.show()"
   ]
  },
  {
   "cell_type": "markdown",
   "metadata": {},
   "source": [
    "### Using Pandas to Chart a DataFrame"
   ]
  },
  {
   "cell_type": "code",
   "execution_count": null,
   "metadata": {},
   "outputs": [],
   "source": [
    "# Filter the DataFrame down only to those columns to chart\n",
    "state_and_inches = rain_df[[\"State\",\"Inches\"]]\n",
    "\n",
    "# Set the index to be \"State\" so they will be used as labels\n",
    "state_and_inches = state_and_inches.set_index(\"State\") #try commenting out and running to see what this does...\n",
    "\n",
    "state_and_inches.head()"
   ]
  },
  {
   "cell_type": "code",
   "execution_count": null,
   "metadata": {},
   "outputs": [],
   "source": [
    "# Use DataFrame.plot() in order to create a bar chart of the data\n",
    "state_and_inches.plot(kind=\"bar\", figsize=(20,3))\n",
    "\n",
    "# Set a title for the chart\n",
    "plt.title(\"Average Rain Per State\")\n",
    "\n",
    "plt.show()\n",
    "plt.tight_layout()"
   ]
  },
  {
   "cell_type": "code",
   "execution_count": null,
   "metadata": {},
   "outputs": [],
   "source": [
    "# Pandas can also plot multiple columns if the DataFrame includes them\n",
    "multi_plot = rain_df.plot(kind=\"bar\", figsize=(20,5))\n",
    "\n",
    "# PandasPlot.set_xticklabels() can be used to set the tick labels as well\n",
    "multi_plot.set_xticklabels(rain_df[\"State\"], rotation=45)\n",
    "\n",
    "plt.show()\n",
    "plt.tight_layout()"
   ]
  },
  {
   "cell_type": "code",
   "execution_count": null,
   "metadata": {},
   "outputs": [],
   "source": []
  },
  {
   "cell_type": "markdown",
   "metadata": {},
   "source": [
    "# Student Turn - 01 - NJ Temp - 👩‍🎓👨‍🎓"
   ]
  },
  {
   "cell_type": "markdown",
   "metadata": {},
   "source": [
    "# New Jersey monthly temperature\n",
    "\n",
    "## Instructions\n",
    "\n",
    "* Using the following data, plot the monthly averages for temperature in New Jersey in both Fahrenheit and Celsius.\n",
    "  - Average temperature per month in Fahrenheit: `[39, 42, 51, 62, 72, 82, 86, 84, 77, 65, 55, 44]`\n",
    "\n",
    "* Assign to the x-axis a range of numerical values representing each month of the year.\n",
    "\n",
    "* Plot the Fahrenheit points.\n",
    "\n",
    "* Use a list comprehension to convert the temperature to Celsius.\n",
    "  - The formula for conversion is: `C = (F - 32) * 0.56`\n",
    "\n",
    "* Plot the Celsius points.\n",
    "\n",
    "* Lastly, create a third plot with both the Fahrenheit and Celsius points."
   ]
  },
  {
   "cell_type": "code",
   "execution_count": null,
   "metadata": {},
   "outputs": [],
   "source": [
    "# Dependencies\n",
    "import numpy as np\n",
    "import matplotlib.pyplot as plt"
   ]
  },
  {
   "cell_type": "code",
   "execution_count": null,
   "metadata": {},
   "outputs": [],
   "source": [
    "# Set x axis to numerical value for month\n",
    "x_axis_data = np.arange(1,13,1)\n",
    "x_axis_data"
   ]
  },
  {
   "cell_type": "code",
   "execution_count": null,
   "metadata": {},
   "outputs": [],
   "source": [
    "# Average weather temp\n",
    "points = [39, 42, 51, 62, 72, 82, 86, 84, 77, 65, 55, 44]"
   ]
  },
  {
   "cell_type": "code",
   "execution_count": null,
   "metadata": {},
   "outputs": [],
   "source": [
    "# Plot the line\n",
    "plt.plot(x_axis_data, points)"
   ]
  },
  {
   "cell_type": "code",
   "execution_count": null,
   "metadata": {},
   "outputs": [],
   "source": [
    "# Convert to Celsius C = (F-32) * 0.56\n",
    "C=[]\n",
    "for index in range(len(points)):\n",
    "     C.append(points[index]-32)*0.56)\n",
    "C"
   ]
  },
  {
   "cell_type": "code",
   "execution_count": null,
   "metadata": {},
   "outputs": [],
   "source": [
    "# Plot using Celsius\n"
   ]
  },
  {
   "cell_type": "code",
   "execution_count": null,
   "metadata": {},
   "outputs": [],
   "source": [
    "# Plot both on the same chart\n"
   ]
  },
  {
   "cell_type": "markdown",
   "metadata": {},
   "source": [
    "# A2 -- Instructor Turn - Basic Line Graphs - 👩‍🏫🧑‍🏫"
   ]
  },
  {
   "cell_type": "markdown",
   "metadata": {},
   "source": [
    "# Exponential"
   ]
  },
  {
   "cell_type": "code",
   "execution_count": null,
   "metadata": {},
   "outputs": [],
   "source": [
    "# Import Numpy for calculations and matplotlib for charting\n",
    "import numpy as np\n",
    "import matplotlib.pyplot as plt"
   ]
  },
  {
   "cell_type": "code",
   "execution_count": null,
   "metadata": {},
   "outputs": [],
   "source": [
    "# Creates a list from 0 to 5 with each step being 0.1 higher than the last\n",
    "x_axis = np.arange(0, 5, 0.1)\n",
    "x_axis"
   ]
  },
  {
   "cell_type": "code",
   "execution_count": null,
   "metadata": {},
   "outputs": [],
   "source": [
    "# Creates an exponential series of values which we can then chart\n",
    "e_x = [np.exp(x) for x in x_axis]\n",
    "e_x"
   ]
  },
  {
   "cell_type": "code",
   "execution_count": null,
   "metadata": {},
   "outputs": [],
   "source": [
    "# Create a graph based upon the two lists we have created\n",
    "plt.plot(x_axis, e_x)"
   ]
  },
  {
   "cell_type": "code",
   "execution_count": null,
   "metadata": {},
   "outputs": [],
   "source": [
    "# Show the graph that we have created\n",
    "plt.show()"
   ]
  },
  {
   "cell_type": "code",
   "execution_count": null,
   "metadata": {},
   "outputs": [],
   "source": [
    "# Give our graph axis labels\n",
    "plt.xlabel(\"Time With MatPlotLib\")\n",
    "plt.ylabel(\"How Cool MatPlotLib Seems\")\n",
    "\n",
    "# Have to plot our chart once again as it doesn't stick after being shown\n",
    "plt.plot(x_axis, e_x)\n",
    "plt.show()"
   ]
  },
  {
   "cell_type": "markdown",
   "metadata": {},
   "source": [
    "# Sin Cos "
   ]
  },
  {
   "cell_type": "code",
   "execution_count": null,
   "metadata": {},
   "outputs": [],
   "source": [
    "# Import Numpy for calculations and matplotlib for charting\n",
    "import numpy as np\n",
    "import matplotlib.pyplot as plt"
   ]
  },
  {
   "cell_type": "code",
   "execution_count": null,
   "metadata": {},
   "outputs": [],
   "source": [
    "# Create our x_axis list\n",
    "x_axis = np.arange(0, 6, 0.1)"
   ]
  },
  {
   "cell_type": "code",
   "execution_count": null,
   "metadata": {},
   "outputs": [],
   "source": [
    "# Creates a list based on the sin of our x_axis values\n",
    "sin = np.sin(x_axis)"
   ]
  },
  {
   "cell_type": "code",
   "execution_count": null,
   "metadata": {},
   "outputs": [],
   "source": [
    "# Creates a list based on the cos of our x_axis values\n",
    "cos = np.cos(x_axis)"
   ]
  },
  {
   "cell_type": "code",
   "execution_count": null,
   "metadata": {},
   "outputs": [],
   "source": [
    "# Plot both of these lines so that they will appear on our final chart\n",
    "plt.plot(x_axis, sin)\n",
    "plt.plot(x_axis, cos)\n",
    "\n",
    "plt.show()"
   ]
  },
  {
   "cell_type": "markdown",
   "metadata": {},
   "source": [
    "# A3 -- Student Turn - PyBars - 👩‍🎓👨‍🎓"
   ]
  },
  {
   "cell_type": "markdown",
   "metadata": {},
   "source": [
    "# Bars Bar Chart\n",
    "\n",
    "### Instructions\n",
    "\n",
    "* Using the file provided as a starter, create a bar chart that matches the image provided."
   ]
  },
  {
   "cell_type": "code",
   "execution_count": null,
   "metadata": {},
   "outputs": [],
   "source": [
    "%matplotlib notebook"
   ]
  },
  {
   "cell_type": "code",
   "execution_count": null,
   "metadata": {},
   "outputs": [],
   "source": [
    "import matplotlib.pyplot as plt\n",
    "import numpy as np"
   ]
  },
  {
   "cell_type": "code",
   "execution_count": null,
   "metadata": {},
   "outputs": [],
   "source": [
    "cities = [\"New Orleans\", \"Milwaukee\", \"Omaha\", \"Pittsburgh\", \"Toledo\"]\n",
    "bars_in_cities = [8.6, 8.5, 8.3, 7.9, 7.2]\n",
    "x_axis = np.arange(len(bars_in_cities))"
   ]
  },
  {
   "cell_type": "code",
   "execution_count": null,
   "metadata": {},
   "outputs": [],
   "source": [
    "# Create a bar chart based upon the above data\n"
   ]
  },
  {
   "cell_type": "code",
   "execution_count": null,
   "metadata": {},
   "outputs": [],
   "source": [
    "# Create the ticks for our bar chart's x axis\n"
   ]
  },
  {
   "cell_type": "code",
   "execution_count": null,
   "metadata": {},
   "outputs": [],
   "source": [
    "# Set the limits of the x axis\n"
   ]
  },
  {
   "cell_type": "code",
   "execution_count": null,
   "metadata": {},
   "outputs": [],
   "source": [
    "# Set the limits of the y axis\n"
   ]
  },
  {
   "cell_type": "code",
   "execution_count": null,
   "metadata": {},
   "outputs": [],
   "source": [
    "# Give the chart a title, x label, and y label\n"
   ]
  },
  {
   "cell_type": "code",
   "execution_count": null,
   "metadata": {},
   "outputs": [],
   "source": [
    "# Save an image of the chart and print it to the screen\n",
    "plt.savefig(\"./output/BarDensity.png\")\n",
    "plt.show()"
   ]
  },
  {
   "cell_type": "markdown",
   "metadata": {},
   "source": [
    "# A4 -- Instructor Turn - Bar Charts  - 👩‍🏫🧑‍🏫"
   ]
  },
  {
   "cell_type": "code",
   "execution_count": null,
   "metadata": {},
   "outputs": [],
   "source": [
    "%matplotlib notebook"
   ]
  },
  {
   "cell_type": "code",
   "execution_count": null,
   "metadata": {},
   "outputs": [],
   "source": [
    "import matplotlib.pyplot as plt\n",
    "import numpy as np"
   ]
  },
  {
   "cell_type": "code",
   "execution_count": null,
   "metadata": {},
   "outputs": [],
   "source": [
    "# Create an array that contains the number of users each language has\n",
    "users = [13000, 26000, 52000, 30000, 9000]\n",
    "x_axis = np.arange(len(users))"
   ]
  },
  {
   "cell_type": "code",
   "execution_count": null,
   "metadata": {},
   "outputs": [],
   "source": [
    "# Tell matplotlib that we will be making a bar chart\n",
    "# Users is our y axis and x_axis is, of course, our x axis\n",
    "# We apply align=\"center\" to ensure our bars line up with our tick marks\n",
    "plt.bar(x_axis, users, color='r', alpha=0.5, align=\"center\")"
   ]
  },
  {
   "cell_type": "code",
   "execution_count": null,
   "metadata": {},
   "outputs": [],
   "source": [
    "# Tell matplotlib where we would like to place each of our x axis headers\n",
    "tick_locations = [value for value in x_axis]\n",
    "plt.xticks(tick_locations, [\"Java\", \"C++\", \"Python\", \"Ruby\", \"Clojure\"])\n",
    "plt.show()"
   ]
  },
  {
   "cell_type": "code",
   "execution_count": null,
   "metadata": {},
   "outputs": [],
   "source": [
    "# Sets the x limits of the current chart\n",
    "plt.xlim(-0.75, len(x_axis)-0.25)\n",
    "plt.show()"
   ]
  },
  {
   "cell_type": "code",
   "execution_count": null,
   "metadata": {},
   "outputs": [],
   "source": [
    "# Sets the y limits of the current chart\n",
    "plt.ylim(0, max(users)+5000)\n",
    "plt.show()"
   ]
  },
  {
   "cell_type": "code",
   "execution_count": null,
   "metadata": {},
   "outputs": [],
   "source": [
    "# Give our chart some labels and a tile\n",
    "plt.title(\"Popularity of Programming Languages\")\n",
    "plt.xlabel(\"Programming Language\")\n",
    "plt.ylabel(\"Number of People Using Programming Languages\")\n",
    "plt.show()"
   ]
  },
  {
   "cell_type": "code",
   "execution_count": null,
   "metadata": {},
   "outputs": [],
   "source": []
  },
  {
   "cell_type": "markdown",
   "metadata": {},
   "source": [
    "# A5 -- Student Turn - PyPies - 👩‍🎓👨‍🎓"
   ]
  },
  {
   "cell_type": "markdown",
   "metadata": {},
   "source": [
    "# Pies Pie Chart\n",
    "\n",
    "### Instructions\n",
    "\n",
    "* Using the file provided as a starter, create a pie chart that matches the image provided.\n"
   ]
  },
  {
   "cell_type": "code",
   "execution_count": null,
   "metadata": {},
   "outputs": [],
   "source": [
    "%matplotlib notebook"
   ]
  },
  {
   "cell_type": "code",
   "execution_count": null,
   "metadata": {},
   "outputs": [],
   "source": [
    "import matplotlib.pyplot as plt\n",
    "import numpy as np"
   ]
  },
  {
   "cell_type": "code",
   "execution_count": null,
   "metadata": {},
   "outputs": [],
   "source": [
    "pies = [\"Apple\", \"Pumpkin\", \"Chocolate Creme\", \"Cherry\", \"Apple Crumb\",\n",
    "        \"Pecan\", \"Lemon Meringue\", \"Blueberry\", \"Key Lime\", \"Peach\"]\n",
    "pie_votes = [47, 37, 32, 27, 25, 24, 24, 21, 18, 16]\n",
    "colors = [\"yellow\", \"green\", \"lightblue\", \"orange\", \"red\",\n",
    "          \"purple\", \"pink\", \"yellowgreen\", \"lightskyblue\", \"lightcoral\"]\n",
    "explode = (0.1, 0, 0, 0, 0, 0, 0, 0, 0, 0)"
   ]
  },
  {
   "cell_type": "code",
   "execution_count": null,
   "metadata": {},
   "outputs": [],
   "source": [
    "# Tell matplotlib to create a pie chart based upon the above data\n",
    "\n",
    "# Create axes which are equal so we have a perfect circle\n",
    "\n",
    "# Save an image of our chart and print the final product to the screen\n",
    "plt.savefig(\"./output/PyPies.png\")\n",
    "plt.show()"
   ]
  },
  {
   "cell_type": "code",
   "execution_count": null,
   "metadata": {},
   "outputs": [],
   "source": []
  },
  {
   "cell_type": "markdown",
   "metadata": {},
   "source": [
    "# A6 -- Instructor Turn - Pie Charts - 👩‍🏫🧑‍🏫"
   ]
  },
  {
   "cell_type": "code",
   "execution_count": null,
   "metadata": {},
   "outputs": [],
   "source": [
    "%matplotlib notebook"
   ]
  },
  {
   "cell_type": "code",
   "execution_count": null,
   "metadata": {},
   "outputs": [],
   "source": [
    "# Import our dependencies\n",
    "import matplotlib.pyplot as plt\n",
    "import numpy as np"
   ]
  },
  {
   "cell_type": "code",
   "execution_count": null,
   "metadata": {},
   "outputs": [],
   "source": [
    "# Labels for the sections of our pie chart\n",
    "labels = [\"Humans\", \"Smurfs\", \"Hobbits\", \"Ninjas\"]\n",
    "\n",
    "# The values of each section of the pie chart\n",
    "sizes = [220, 95, 80, 100]\n",
    "\n",
    "# The colors of each section of the pie chart\n",
    "colors = [\"red\", \"orange\", \"lightcoral\", \"lightskyblue\"]\n",
    "\n",
    "# Tells matplotlib to seperate the \"Python\" section from the others\n",
    "explode = (0.1, 0, 0, 0)"
   ]
  },
  {
   "cell_type": "code",
   "execution_count": null,
   "metadata": {},
   "outputs": [],
   "source": [
    "# Creates the pie chart based upon the values above\n",
    "# Automatically finds the percentages of each part of the pie chart\n",
    "plt.pie(sizes, explode=explode, labels=labels, colors=colors,\n",
    "        autopct=\"%1.1f%%\", shadow=True, startangle=140)"
   ]
  },
  {
   "cell_type": "code",
   "execution_count": null,
   "metadata": {},
   "outputs": [],
   "source": [
    "# Tells matplotlib that we want a pie chart with equal axes\n",
    "plt.axis(\"equal\")"
   ]
  },
  {
   "cell_type": "code",
   "execution_count": null,
   "metadata": {},
   "outputs": [],
   "source": []
  },
  {
   "cell_type": "markdown",
   "metadata": {},
   "source": [
    "# A7 -- Student Turn  - ScatterPy - 👩‍🎓👨‍🎓"
   ]
  },
  {
   "cell_type": "markdown",
   "metadata": {},
   "source": [
    "# Scatter Py\n",
    "\n",
    "### Instructions\n",
    "\n",
    "* Using the file provided as a starter, create a scatter plot that matches the image provided.\n",
    "\n",
    "### BONUS\n",
    "\n",
    "* Create a new list called \"scoop_price\", fill it with values, and then set it so that the size of the dots are set according to those values.\n"
   ]
  },
  {
   "cell_type": "code",
   "execution_count": null,
   "metadata": {},
   "outputs": [],
   "source": [
    "%matplotlib notebook"
   ]
  },
  {
   "cell_type": "code",
   "execution_count": null,
   "metadata": {},
   "outputs": [],
   "source": [
    "import matplotlib.pyplot as plt\n",
    "import numpy as np"
   ]
  },
  {
   "cell_type": "code",
   "execution_count": null,
   "metadata": {},
   "outputs": [],
   "source": [
    "temp = [14.2, 16.4, 11.9, 15.2, 18.5, 22.1, 19.4, 25.1, 23.4, 18.1, 22.6, 17.2]\n",
    "sales = [215, 325, 185, 332, 406, 522, 412, 614, 544, 421, 445, 408]"
   ]
  },
  {
   "cell_type": "code",
   "execution_count": null,
   "metadata": {},
   "outputs": [],
   "source": [
    "# Tell matplotlib to create a scatter plot based upon the above data\n"
   ]
  },
  {
   "cell_type": "code",
   "execution_count": null,
   "metadata": {},
   "outputs": [],
   "source": [
    "# Set the upper and lower limits of our y axis\n"
   ]
  },
  {
   "cell_type": "code",
   "execution_count": null,
   "metadata": {},
   "outputs": [],
   "source": [
    "# Set the upper and lower limits of our x axis\n"
   ]
  },
  {
   "cell_type": "code",
   "execution_count": null,
   "metadata": {},
   "outputs": [],
   "source": [
    "# Create a title, x label, and y label for our chart\n"
   ]
  },
  {
   "cell_type": "code",
   "execution_count": null,
   "metadata": {},
   "outputs": [],
   "source": [
    "# Save an image of the chart and print to screen\n",
    "# NOTE: If your plot shrinks after saving an image,\n",
    "# update matplotlib to 2.2 or higher,\n",
    "# or simply run the above cells again.\n",
    "plt.savefig(\"./output/IceCreamSales.png\")\n",
    "plt.show()"
   ]
  },
  {
   "cell_type": "code",
   "execution_count": null,
   "metadata": {},
   "outputs": [],
   "source": [
    "# BONUS: With scoop_price set to the scalar value\n",
    "scoop_price = [89, 18, 10, 28, 79, 46, 29, 38, 89, 26, 45, 62]\n",
    "plt.scatter(temp, sales, marker=\"o\", facecolors=\"red\", edgecolors=\"black\", s=scoop_price)"
   ]
  },
  {
   "cell_type": "code",
   "execution_count": null,
   "metadata": {},
   "outputs": [],
   "source": []
  },
  {
   "cell_type": "markdown",
   "metadata": {},
   "source": [
    "# A8 -- Instructor Turn - Scatter Plots - 👩‍🏫🧑‍🏫"
   ]
  },
  {
   "cell_type": "code",
   "execution_count": null,
   "metadata": {},
   "outputs": [],
   "source": [
    "%matplotlib notebook"
   ]
  },
  {
   "cell_type": "code",
   "execution_count": null,
   "metadata": {},
   "outputs": [],
   "source": [
    "# Import Dependencies\n",
    "import random\n",
    "import matplotlib.pyplot as plt\n",
    "import numpy as np"
   ]
  },
  {
   "cell_type": "code",
   "execution_count": null,
   "metadata": {},
   "outputs": [],
   "source": [
    "# The maximum x value for our chart will be 100\n",
    "x_limit = 100\n",
    "\n",
    "# List of values from 0 to 100 each value being 1 greater than the last\n",
    "x_axis = np.arange(0, x_limit, 1)\n",
    "\n",
    "# Create a random array of data that we will use for our y values\n",
    "data = [random.random() for value in x_axis]"
   ]
  },
  {
   "cell_type": "code",
   "execution_count": null,
   "metadata": {},
   "outputs": [],
   "source": [
    "# Tells matplotlib that we want to make a scatter plot\n",
    "# The size of each point on our plot is determined by their x value\n",
    "plt.scatter(x_axis, data, marker=\"o\", facecolors=\"red\", edgecolors=\"black\",\n",
    "            s=x_axis, alpha=0.75)"
   ]
  },
  {
   "cell_type": "code",
   "execution_count": null,
   "metadata": {},
   "outputs": [],
   "source": [
    "# The y limits of our scatter plot is 0 to 1\n",
    "plt.ylim(0, 1)"
   ]
  },
  {
   "cell_type": "code",
   "execution_count": null,
   "metadata": {},
   "outputs": [],
   "source": [
    "# The x limits of our scatter plot is 0 to 100\n",
    "plt.xlim(0, x_limit)"
   ]
  },
  {
   "cell_type": "code",
   "execution_count": null,
   "metadata": {},
   "outputs": [],
   "source": [
    "# Prints the scatter plot to the screen\n",
    "plt.show()"
   ]
  },
  {
   "cell_type": "code",
   "execution_count": null,
   "metadata": {},
   "outputs": [],
   "source": []
  },
  {
   "cell_type": "code",
   "execution_count": null,
   "metadata": {},
   "outputs": [],
   "source": []
  },
  {
   "cell_type": "code",
   "execution_count": null,
   "metadata": {},
   "outputs": [],
   "source": []
  },
  {
   "cell_type": "markdown",
   "metadata": {},
   "source": [
    "# B1 -- Student Turn - Legendary Temperature - 👩‍🎓👨‍🎓"
   ]
  },
  {
   "cell_type": "markdown",
   "metadata": {},
   "source": [
    "# New Jersey Temperature\n",
    "\n",
    "### Instructions\n",
    "\n",
    "* Modify the New Jersey temperature line charts from earlier so that they match the image provided.\n",
    "\n",
    "* Once the plot has been created, look through the [MatPlotLib Documentation](https://matplotlib.org/2.0.2/index.html) to see what additional formatting could be added to the chart.\n"
   ]
  },
  {
   "cell_type": "code",
   "execution_count": null,
   "metadata": {},
   "outputs": [],
   "source": [
    "# Include this line to make plots interactive\n",
    "%matplotlib notebook"
   ]
  },
  {
   "cell_type": "code",
   "execution_count": null,
   "metadata": {},
   "outputs": [],
   "source": [
    "# Dependencies\n",
    "import matplotlib.pyplot as plt\n",
    "import numpy as np"
   ]
  },
  {
   "cell_type": "code",
   "execution_count": null,
   "metadata": {},
   "outputs": [],
   "source": [
    "# Set x axis to numerical value for month\n",
    "x_axis = np.arange(1,13,1)\n",
    "x_axis"
   ]
  },
  {
   "cell_type": "code",
   "execution_count": null,
   "metadata": {},
   "outputs": [],
   "source": [
    "# Avearge weather temp\n",
    "points_F = [39, 42, 51, 62, 72, 82, 86, 84, 77, 65, 55, 44]"
   ]
  },
  {
   "cell_type": "code",
   "execution_count": null,
   "metadata": {},
   "outputs": [],
   "source": [
    "# Convert to Celsius C = (F-32) * 0.56\n",
    "points_C = [(x-32) * 0.56 for x in points_F]\n",
    "points_C"
   ]
  },
  {
   "cell_type": "code",
   "execution_count": null,
   "metadata": {},
   "outputs": [],
   "source": [
    "# Create a handle for each plot\n"
   ]
  },
  {
   "cell_type": "code",
   "execution_count": null,
   "metadata": {},
   "outputs": [],
   "source": [
    "# Set our legend to where the chart thinks is best\n"
   ]
  },
  {
   "cell_type": "code",
   "execution_count": null,
   "metadata": {},
   "outputs": [],
   "source": [
    "# Create labels for the X and Y axis\n"
   ]
  },
  {
   "cell_type": "code",
   "execution_count": null,
   "metadata": {},
   "outputs": [],
   "source": [
    "# Save and display the chart\n",
    "plt.savefig(\"./output/avg_temp.png\")\n",
    "plt.show()"
   ]
  },
  {
   "cell_type": "markdown",
   "metadata": {},
   "source": [
    "# B2 -- Instructor Turn - Configuring Line Plots - 👩‍🏫🧑‍🏫"
   ]
  },
  {
   "cell_type": "code",
   "execution_count": null,
   "metadata": {},
   "outputs": [],
   "source": [
    "%matplotlib notebook"
   ]
  },
  {
   "cell_type": "code",
   "execution_count": null,
   "metadata": {},
   "outputs": [],
   "source": [
    "# Dependencies\n",
    "import matplotlib.pyplot as plt\n",
    "import numpy as np"
   ]
  },
  {
   "cell_type": "code",
   "execution_count": null,
   "metadata": {},
   "outputs": [],
   "source": [
    "# Set x axis and variables\n",
    "x_axis = np.arange(0, 10, 0.1)\n",
    "sin = np.sin(x_axis)\n",
    "cos = np.cos(x_axis)"
   ]
  },
  {
   "cell_type": "code",
   "execution_count": null,
   "metadata": {},
   "outputs": [],
   "source": [
    "# Draw a horizontal line with 0.25 transparency\n",
    "plt.hlines(0, 0, 10, alpha=0.25)"
   ]
  },
  {
   "cell_type": "code",
   "execution_count": null,
   "metadata": {},
   "outputs": [],
   "source": [
    "# Assign plots to tuples that stores result of plot\n",
    "\n",
    "# Each point on the sine chart is marked by a blue circle\n",
    "sine_handle, = plt.plot(x_axis, sin, marker ='o', color='blue', label=\"Sine\")\n",
    "# Each point on the cosine chart is marked by a red triangle\n",
    "cosine_handle, = plt.plot(x_axis, cos, marker='^', color='red', label=\"Cosine\")"
   ]
  },
  {
   "cell_type": "code",
   "execution_count": null,
   "metadata": {},
   "outputs": [],
   "source": [
    "# Adds a legend and sets its location to the lower right\n",
    "plt.legend(loc=\"lower right\")"
   ]
  },
  {
   "cell_type": "code",
   "execution_count": null,
   "metadata": {},
   "outputs": [],
   "source": [
    "# Saves an image of our chart so that we can view it in a folder\n",
    "plt.savefig(\"./output/lineConfig.png\")\n",
    "plt.show()"
   ]
  },
  {
   "cell_type": "code",
   "execution_count": null,
   "metadata": {},
   "outputs": [],
   "source": []
  },
  {
   "cell_type": "code",
   "execution_count": null,
   "metadata": {},
   "outputs": [],
   "source": []
  },
  {
   "cell_type": "code",
   "execution_count": null,
   "metadata": {},
   "outputs": [],
   "source": []
  },
  {
   "cell_type": "markdown",
   "metadata": {},
   "source": [
    "# B3 -- Student Turn - RollerCoaster - 👩‍🎓👨‍🎓"
   ]
  },
  {
   "cell_type": "markdown",
   "metadata": {},
   "source": [
    "# Coaster Speed\n",
    "\n",
    "### Instructions\n",
    "\n",
    "* Create a line chart with two plots using the following data...\n",
    "\n",
    "* `Danger Drop: [9, 8, 90, 85, 80, 70, 70, 65, 55, 60, 70, 65, 50]`\n",
    "\n",
    "* `RailGun: [75, 70, 60, 65, 60, 45, 55, 50, 40, 40, 35, 35, 30]`\n",
    "\n",
    "* Both coasters are 120 seconds long and the speed was measured every 10 seconds.\n",
    "\n",
    "* Apply styling and labels that match the image provided.\n"
   ]
  },
  {
   "cell_type": "code",
   "execution_count": null,
   "metadata": {},
   "outputs": [],
   "source": [
    "%matplotlib notebook"
   ]
  },
  {
   "cell_type": "code",
   "execution_count": null,
   "metadata": {},
   "outputs": [],
   "source": [
    "# Import Dependencies\n",
    "import matplotlib.pyplot as plt\n",
    "import numpy as np"
   ]
  },
  {
   "cell_type": "code",
   "execution_count": null,
   "metadata": {},
   "outputs": [],
   "source": [
    "# Create the X and Y axis lists\n",
    "time = np.arange(0,130,10)\n",
    "speed_chain = [9, 8, 90, 85, 80, 70, 70, 65, 55, 60, 70, 65, 50]\n",
    "speed_launch = [75, 70, 60, 65, 60, 45, 55, 50, 40, 40, 35, 35, 30]"
   ]
  },
  {
   "cell_type": "code",
   "execution_count": null,
   "metadata": {},
   "outputs": [],
   "source": [
    "# Plot the charts and apply some styling\n"
   ]
  },
  {
   "cell_type": "code",
   "execution_count": null,
   "metadata": {},
   "outputs": [],
   "source": [
    "# Add labels to X and Y axes :: Add title\n"
   ]
  },
  {
   "cell_type": "code",
   "execution_count": null,
   "metadata": {},
   "outputs": [],
   "source": [
    "# Set the limits for the X and Y axes\n"
   ]
  },
  {
   "cell_type": "code",
   "execution_count": null,
   "metadata": {},
   "outputs": [],
   "source": [
    "# Create a legend for the chart\n"
   ]
  },
  {
   "cell_type": "code",
   "execution_count": null,
   "metadata": {},
   "outputs": [],
   "source": [
    "# Add in a grid for the chart\n",
    "plt.grid()"
   ]
  },
  {
   "cell_type": "code",
   "execution_count": null,
   "metadata": {},
   "outputs": [],
   "source": [
    "plt.show()"
   ]
  },
  {
   "cell_type": "markdown",
   "metadata": {},
   "source": [
    "# B4 -- Instructor Turn - Aesthetics - 👩‍🏫🧑‍🏫"
   ]
  },
  {
   "cell_type": "code",
   "execution_count": null,
   "metadata": {},
   "outputs": [],
   "source": [
    "%matplotlib notebook"
   ]
  },
  {
   "cell_type": "code",
   "execution_count": null,
   "metadata": {},
   "outputs": [],
   "source": [
    "# Dependencies\n",
    "import matplotlib.pyplot as plt\n",
    "import numpy as np"
   ]
  },
  {
   "cell_type": "code",
   "execution_count": null,
   "metadata": {},
   "outputs": [],
   "source": [
    "# Generate the x values from 0 to 10 using a step of 0.1\n",
    "x_axis = np.arange(0, 10, 0.1)\n",
    "sin = np.sin(x_axis)\n",
    "cos = np.cos(x_axis)"
   ]
  },
  {
   "cell_type": "code",
   "execution_count": null,
   "metadata": {},
   "outputs": [],
   "source": [
    "# Add a semi-transparent horizontal line at y = 0\n",
    "plt.hlines(0, 0, 10, alpha=0.25)"
   ]
  },
  {
   "cell_type": "code",
   "execution_count": null,
   "metadata": {},
   "outputs": [],
   "source": [
    "# Use dots or other markers for your plots, and change their colors\n",
    "plt.plot(x_axis, sin, linewidth=0, marker=\"o\", color=\"blue\")\n",
    "plt.plot(x_axis, cos, linewidth=0, marker=\"^\", color=\"red\")"
   ]
  },
  {
   "cell_type": "code",
   "execution_count": null,
   "metadata": {},
   "outputs": [],
   "source": [
    "# Add labels to the x and y axes\n",
    "plt.title(\"Juxtaposed Sine and Cosine Curves\")\n",
    "plt.xlabel(\"Input (Sampled Real Numbers from 0 to 10)\")\n",
    "plt.ylabel(\"Value of Sine (blue) and Cosine (red)\")"
   ]
  },
  {
   "cell_type": "code",
   "execution_count": null,
   "metadata": {},
   "outputs": [],
   "source": [
    "# Set your x and y limits\n",
    "plt.xlim(0, 10)\n",
    "plt.ylim(-1, 1)"
   ]
  },
  {
   "cell_type": "code",
   "execution_count": null,
   "metadata": {},
   "outputs": [],
   "source": [
    "# Set a grid on the plot\n",
    "plt.grid()"
   ]
  },
  {
   "cell_type": "code",
   "execution_count": null,
   "metadata": {},
   "outputs": [],
   "source": [
    "# Save the plot and display it\n",
    "plt.savefig(\"./output/sin_cos_with_markers.png\")\n",
    "plt.show()"
   ]
  },
  {
   "cell_type": "markdown",
   "metadata": {},
   "source": [
    "# Student Turn - 03 - Battling Kings - 👩‍🎓👨‍🎓"
   ]
  },
  {
   "cell_type": "markdown",
   "metadata": {},
   "source": [
    "# Plotting Pandas Data\n",
    "\n",
    "## Instructions\n",
    "\n",
    "Your task is to plot the _total_ number of battles each king in the Game of Thrones data set participated in. In other words, you need to determine how many times each king started a battle, _and_ how many times they were defenders.\n",
    "\n",
    "* Use Pandas to load the `got.csv` data set.\n",
    "\n",
    "* Create a Series containing the number of times each king was an attacker.\n",
    "\n",
    "* Create a Series containing the number of times each king was a defender.\n",
    "\n",
    "* Combine these two variables into a single Series. _Hint_: How should you combine these two Series? Can you add Series in Pandas?\n",
    "\n",
    "* Use your combined data to retrieve labels for your x-ticks.\n",
    "\n",
    "* Create a red bar chart, and set its x-tick labels appropriately.\n",
    "\n",
    "* Add a title and labels to your plot.\n",
    "\n",
    "* Display your plot. Who participated in the most battles? The least?\n",
    "\n",
    "\n",
    "Data Source: [Game of Thrones Dataset](https://data.world/data-society/game-of-thrones)\n",
    "\n",
    "---\n"
   ]
  },
  {
   "cell_type": "code",
   "execution_count": null,
   "metadata": {},
   "outputs": [],
   "source": [
    "%matplotlib notebook"
   ]
  },
  {
   "cell_type": "code",
   "execution_count": null,
   "metadata": {},
   "outputs": [],
   "source": [
    "# Dependencies\n",
    "import matplotlib.pyplot as plt\n",
    "import numpy as np\n",
    "import pandas as pd"
   ]
  },
  {
   "cell_type": "code",
   "execution_count": null,
   "metadata": {},
   "outputs": [],
   "source": [
    "# Read CSV\n",
    "got_data = pd.read_csv(\"./Resources/got.csv\")\n",
    "got_data"
   ]
  },
  {
   "cell_type": "code",
   "execution_count": null,
   "metadata": {},
   "outputs": [],
   "source": [
    "# Get attacker king data\n",
    "#got_data[\"attacker_king\"]\n",
    "attacker_data = got_data[\"attacker_king\"].value_counts()"
   ]
  },
  {
   "cell_type": "code",
   "execution_count": null,
   "metadata": {},
   "outputs": [],
   "source": [
    "# Get  defender king data\n",
    "#got_data[\"defender_king\"]\n",
    "defender_data = got_data[\"defender_king\"].value_counts()"
   ]
  },
  {
   "cell_type": "code",
   "execution_count": null,
   "metadata": {},
   "outputs": [],
   "source": [
    "attacker_data + defender_data #screws up data since some attackers are not defenders"
   ]
  },
  {
   "cell_type": "code",
   "execution_count": null,
   "metadata": {},
   "outputs": [],
   "source": [
    "# Get total battle data\n",
    "battle_data = attacker_data.add(defender_data, fill_value=0)\n",
    "#battle_data = attacker_data.add(defender_data)\n",
    "battle_data"
   ]
  },
  {
   "cell_type": "code",
   "execution_count": null,
   "metadata": {},
   "outputs": [],
   "source": [
    "# Configure plot and ticks\n",
    "battle_data.plot(kind=\"bar\", facecolor=\"red\") "
   ]
  },
  {
   "cell_type": "code",
   "execution_count": null,
   "metadata": {},
   "outputs": [],
   "source": [
    "# Set textual properties\n",
    "plt.title(\"The Bloodthirst of Kings\")\n",
    "plt.ylabel(\"Number of Battles Participated In\")\n",
    "plt.xlabel(\"King\")"
   ]
  },
  {
   "cell_type": "code",
   "execution_count": null,
   "metadata": {},
   "outputs": [],
   "source": [
    "# Show plot\n",
    "plt.show()"
   ]
  },
  {
   "cell_type": "code",
   "execution_count": null,
   "metadata": {},
   "outputs": [],
   "source": [
    "# Resize plot to display labels\n",
    "plt.tight_layout()"
   ]
  },
  {
   "cell_type": "markdown",
   "metadata": {},
   "source": [
    "<details>\n",
    "    <summary><strong>Activity 03 Solution ✅</strong></summary>\n",
    "    \n",
    "```python\n",
    "%matplotlib notebook\n",
    "\n",
    "# Dependencies\n",
    "import matplotlib.pyplot as plt\n",
    "import numpy as np\n",
    "import pandas as pd\n",
    "\n",
    "# Read CSV\n",
    "got_data = pd.read_csv(\"./Resources/got.csv\")\n",
    "got_data\n",
    "\n",
    "# Get attacker and defender king data\n",
    "attacker_data = got_data[\"attacker_king\"].value_counts()\n",
    "defender_data = got_data[\"defender_king\"].value_counts()\n",
    "\n",
    "# Get total battle data\n",
    "battle_data = attacker_data.add(defender_data, fill_value=0)\n",
    "\n",
    "# Configure plot and ticks\n",
    "battle_data.plot(kind=\"bar\", facecolor=\"red\")\n",
    "\n",
    "# Set textual properties\n",
    "plt.title(\"The Bloodthirst of Kings\")\n",
    "plt.ylabel(\"Number of Battles Participated In\")\n",
    "plt.xlabel(\"King\")\n",
    "plt.xticks(rotation=45)\n",
    "\n",
    "# Show plot\n",
    "plt.show()\n",
    "\n",
    "# Resize plot to display labels\n",
    "plt.tight_layout()\n",
    "\n",
    "\n",
    "\n",
    "\n",
    "\n",
    "```\n",
    "</details>\n"
   ]
  },
  {
   "cell_type": "markdown",
   "metadata": {},
   "source": [
    "# Instructor Turn - Group Plots - 04 - 👩‍🏫🧑‍🏫"
   ]
  },
  {
   "cell_type": "code",
   "execution_count": null,
   "metadata": {},
   "outputs": [],
   "source": [
    "%matplotlib notebook"
   ]
  },
  {
   "cell_type": "code",
   "execution_count": null,
   "metadata": {},
   "outputs": [],
   "source": [
    "# Import Dependencies\n",
    "import matplotlib.pyplot as plt\n",
    "import pandas as pd"
   ]
  },
  {
   "cell_type": "code",
   "execution_count": null,
   "metadata": {},
   "outputs": [],
   "source": [
    "# Import our data into pandas from CSV\n",
    "used_string = './Resources/used_cars.csv'\n",
    "used_car_df = pd.read_csv(used_string)\n",
    "\n",
    "used_car_df"
   ]
  },
  {
   "cell_type": "code",
   "execution_count": null,
   "metadata": {},
   "outputs": [],
   "source": [
    "# Create a group based on the values in the 'maker' column\n",
    "maker_group = used_car_df.groupby('maker') #'maker' = Index\n",
    "\n",
    "# Count how many times each maker appears in our group\n",
    "count_makers = maker_group['maker'].count() #must add this line to extract count of makers -> Series\n",
    "count_makers"
   ]
  },
  {
   "cell_type": "code",
   "execution_count": null,
   "metadata": {
    "scrolled": true
   },
   "outputs": [],
   "source": [
    "# Create a bar chart based off of the group series from before\n",
    "count_chart = count_makers.plot(kind='bar', color=['red', 'blue', 'green'])\n",
    "\n",
    "# Set the xlabel and ylabel using class methods\n",
    "count_chart.set_xlabel(\"Car Manufacturer\")\n",
    "count_chart.set_ylabel(\"Number of Cars\")\n",
    "\n",
    "\n",
    "plt.show()\n",
    "plt.tight_layout()"
   ]
  },
  {
   "cell_type": "markdown",
   "metadata": {},
   "source": [
    "# Student Turn - Bike Trippin - 05 - 👩‍🎓👨‍🎓"
   ]
  },
  {
   "cell_type": "markdown",
   "metadata": {},
   "source": [
    "# Bike Trippin\n",
    "\n",
    "## Instructions\n",
    "\n",
    "* Create a bar chart using Pandas and MatplotLib that visualizes how many individual bike trips were taken by each gender.\n",
    "\n",
    "* Create a pie graph using Pandas and MatplotLib that can be used to visualize the trip duration of a single bike split up by gender.\n",
    "\n",
    "## Hint\n",
    "\n",
    "* There is a buggy value stored within the \"gender\" column of the original DataFrame. In order to create an accurate chart, this value will need to be found and removed.\n"
   ]
  },
  {
   "cell_type": "code",
   "execution_count": 1,
   "metadata": {},
   "outputs": [],
   "source": [
    "%matplotlib notebook"
   ]
  },
  {
   "cell_type": "code",
   "execution_count": 2,
   "metadata": {},
   "outputs": [],
   "source": [
    "# Import Dependencies\n",
    "import matplotlib.pyplot as plt\n",
    "import pandas as pd\n",
    "import numpy as np"
   ]
  },
  {
   "cell_type": "code",
   "execution_count": 3,
   "metadata": {},
   "outputs": [
    {
     "data": {
      "text/html": [
       "<div>\n",
       "<style scoped>\n",
       "    .dataframe tbody tr th:only-of-type {\n",
       "        vertical-align: middle;\n",
       "    }\n",
       "\n",
       "    .dataframe tbody tr th {\n",
       "        vertical-align: top;\n",
       "    }\n",
       "\n",
       "    .dataframe thead th {\n",
       "        text-align: right;\n",
       "    }\n",
       "</style>\n",
       "<table border=\"1\" class=\"dataframe\">\n",
       "  <thead>\n",
       "    <tr style=\"text-align: right;\">\n",
       "      <th></th>\n",
       "      <th>stoptime</th>\n",
       "      <th>bikeid</th>\n",
       "      <th>tripduration</th>\n",
       "      <th>from_station_name</th>\n",
       "      <th>to_station_name</th>\n",
       "      <th>from_station_id</th>\n",
       "      <th>to_station_id</th>\n",
       "      <th>usertype</th>\n",
       "      <th>gender</th>\n",
       "      <th>birthyear</th>\n",
       "    </tr>\n",
       "  </thead>\n",
       "  <tbody>\n",
       "    <tr>\n",
       "      <th>0</th>\n",
       "      <td>10/13/2014 10:48</td>\n",
       "      <td>SEA00298</td>\n",
       "      <td>985.935</td>\n",
       "      <td>2nd Ave &amp; Spring St</td>\n",
       "      <td>Occidental Park / Occidental Ave S &amp; S Washing...</td>\n",
       "      <td>CBD-06</td>\n",
       "      <td>PS-04</td>\n",
       "      <td>Member</td>\n",
       "      <td>Male</td>\n",
       "      <td>1960</td>\n",
       "    </tr>\n",
       "    <tr>\n",
       "      <th>1</th>\n",
       "      <td>10/13/2014 10:48</td>\n",
       "      <td>SEA00195</td>\n",
       "      <td>926.375</td>\n",
       "      <td>2nd Ave &amp; Spring St</td>\n",
       "      <td>Occidental Park / Occidental Ave S &amp; S Washing...</td>\n",
       "      <td>CBD-06</td>\n",
       "      <td>PS-04</td>\n",
       "      <td>Member</td>\n",
       "      <td>Male</td>\n",
       "      <td>1970</td>\n",
       "    </tr>\n",
       "    <tr>\n",
       "      <th>2</th>\n",
       "      <td>10/13/2014 10:48</td>\n",
       "      <td>SEA00486</td>\n",
       "      <td>883.831</td>\n",
       "      <td>2nd Ave &amp; Spring St</td>\n",
       "      <td>Occidental Park / Occidental Ave S &amp; S Washing...</td>\n",
       "      <td>CBD-06</td>\n",
       "      <td>PS-04</td>\n",
       "      <td>Member</td>\n",
       "      <td>Female</td>\n",
       "      <td>1988</td>\n",
       "    </tr>\n",
       "    <tr>\n",
       "      <th>3</th>\n",
       "      <td>10/13/2014 10:48</td>\n",
       "      <td>SEA00333</td>\n",
       "      <td>865.937</td>\n",
       "      <td>2nd Ave &amp; Spring St</td>\n",
       "      <td>Occidental Park / Occidental Ave S &amp; S Washing...</td>\n",
       "      <td>CBD-06</td>\n",
       "      <td>PS-04</td>\n",
       "      <td>Member</td>\n",
       "      <td>Female</td>\n",
       "      <td>1977</td>\n",
       "    </tr>\n",
       "    <tr>\n",
       "      <th>4</th>\n",
       "      <td>10/13/2014 10:49</td>\n",
       "      <td>SEA00202</td>\n",
       "      <td>923.923</td>\n",
       "      <td>2nd Ave &amp; Spring St</td>\n",
       "      <td>Occidental Park / Occidental Ave S &amp; S Washing...</td>\n",
       "      <td>CBD-06</td>\n",
       "      <td>PS-04</td>\n",
       "      <td>Member</td>\n",
       "      <td>Male</td>\n",
       "      <td>1971</td>\n",
       "    </tr>\n",
       "    <tr>\n",
       "      <th>...</th>\n",
       "      <td>...</td>\n",
       "      <td>...</td>\n",
       "      <td>...</td>\n",
       "      <td>...</td>\n",
       "      <td>...</td>\n",
       "      <td>...</td>\n",
       "      <td>...</td>\n",
       "      <td>...</td>\n",
       "      <td>...</td>\n",
       "      <td>...</td>\n",
       "    </tr>\n",
       "    <tr>\n",
       "      <th>286853</th>\n",
       "      <td>8/31/2016 23:45</td>\n",
       "      <td>SEA00201</td>\n",
       "      <td>679.532</td>\n",
       "      <td>Harvard Ave &amp; E Pine St</td>\n",
       "      <td>2nd Ave &amp; Spring St</td>\n",
       "      <td>CH-09</td>\n",
       "      <td>CBD-06</td>\n",
       "      <td>Short-Term Pass Holder</td>\n",
       "      <td>NaN</td>\n",
       "      <td>NaN</td>\n",
       "    </tr>\n",
       "    <tr>\n",
       "      <th>286854</th>\n",
       "      <td>9/1/2016 0:20</td>\n",
       "      <td>SEA00247</td>\n",
       "      <td>1965.418</td>\n",
       "      <td>Cal Anderson Park / 11th Ave &amp; Pine St</td>\n",
       "      <td>6th Ave S &amp; S King St</td>\n",
       "      <td>CH-08</td>\n",
       "      <td>ID-04</td>\n",
       "      <td>Short-Term Pass Holder</td>\n",
       "      <td>NaN</td>\n",
       "      <td>NaN</td>\n",
       "    </tr>\n",
       "    <tr>\n",
       "      <th>286855</th>\n",
       "      <td>9/1/2016 0:20</td>\n",
       "      <td>SEA00300</td>\n",
       "      <td>1951.173</td>\n",
       "      <td>Cal Anderson Park / 11th Ave &amp; Pine St</td>\n",
       "      <td>6th Ave S &amp; S King St</td>\n",
       "      <td>CH-08</td>\n",
       "      <td>ID-04</td>\n",
       "      <td>Short-Term Pass Holder</td>\n",
       "      <td>NaN</td>\n",
       "      <td>NaN</td>\n",
       "    </tr>\n",
       "    <tr>\n",
       "      <th>286856</th>\n",
       "      <td>9/1/2016 0:20</td>\n",
       "      <td>SEA00047</td>\n",
       "      <td>1883.299</td>\n",
       "      <td>Cal Anderson Park / 11th Ave &amp; Pine St</td>\n",
       "      <td>6th Ave S &amp; S King St</td>\n",
       "      <td>CH-08</td>\n",
       "      <td>ID-04</td>\n",
       "      <td>Short-Term Pass Holder</td>\n",
       "      <td>NaN</td>\n",
       "      <td>NaN</td>\n",
       "    </tr>\n",
       "    <tr>\n",
       "      <th>286857</th>\n",
       "      <td>9/1/2016 0:20</td>\n",
       "      <td>SEA00442</td>\n",
       "      <td>1896.031</td>\n",
       "      <td>Cal Anderson Park / 11th Ave &amp; Pine St</td>\n",
       "      <td>6th Ave S &amp; S King St</td>\n",
       "      <td>CH-08</td>\n",
       "      <td>ID-04</td>\n",
       "      <td>Short-Term Pass Holder</td>\n",
       "      <td>NaN</td>\n",
       "      <td>NaN</td>\n",
       "    </tr>\n",
       "  </tbody>\n",
       "</table>\n",
       "<p>286858 rows × 10 columns</p>\n",
       "</div>"
      ],
      "text/plain": [
       "                stoptime    bikeid  tripduration  \\\n",
       "0       10/13/2014 10:48  SEA00298       985.935   \n",
       "1       10/13/2014 10:48  SEA00195       926.375   \n",
       "2       10/13/2014 10:48  SEA00486       883.831   \n",
       "3       10/13/2014 10:48  SEA00333       865.937   \n",
       "4       10/13/2014 10:49  SEA00202       923.923   \n",
       "...                  ...       ...           ...   \n",
       "286853   8/31/2016 23:45  SEA00201       679.532   \n",
       "286854     9/1/2016 0:20  SEA00247      1965.418   \n",
       "286855     9/1/2016 0:20  SEA00300      1951.173   \n",
       "286856     9/1/2016 0:20  SEA00047      1883.299   \n",
       "286857     9/1/2016 0:20  SEA00442      1896.031   \n",
       "\n",
       "                             from_station_name  \\\n",
       "0                          2nd Ave & Spring St   \n",
       "1                          2nd Ave & Spring St   \n",
       "2                          2nd Ave & Spring St   \n",
       "3                          2nd Ave & Spring St   \n",
       "4                          2nd Ave & Spring St   \n",
       "...                                        ...   \n",
       "286853                 Harvard Ave & E Pine St   \n",
       "286854  Cal Anderson Park / 11th Ave & Pine St   \n",
       "286855  Cal Anderson Park / 11th Ave & Pine St   \n",
       "286856  Cal Anderson Park / 11th Ave & Pine St   \n",
       "286857  Cal Anderson Park / 11th Ave & Pine St   \n",
       "\n",
       "                                          to_station_name from_station_id  \\\n",
       "0       Occidental Park / Occidental Ave S & S Washing...          CBD-06   \n",
       "1       Occidental Park / Occidental Ave S & S Washing...          CBD-06   \n",
       "2       Occidental Park / Occidental Ave S & S Washing...          CBD-06   \n",
       "3       Occidental Park / Occidental Ave S & S Washing...          CBD-06   \n",
       "4       Occidental Park / Occidental Ave S & S Washing...          CBD-06   \n",
       "...                                                   ...             ...   \n",
       "286853                                2nd Ave & Spring St           CH-09   \n",
       "286854                              6th Ave S & S King St           CH-08   \n",
       "286855                              6th Ave S & S King St           CH-08   \n",
       "286856                              6th Ave S & S King St           CH-08   \n",
       "286857                              6th Ave S & S King St           CH-08   \n",
       "\n",
       "       to_station_id                usertype  gender birthyear  \n",
       "0              PS-04                  Member    Male      1960  \n",
       "1              PS-04                  Member    Male      1970  \n",
       "2              PS-04                  Member  Female      1988  \n",
       "3              PS-04                  Member  Female      1977  \n",
       "4              PS-04                  Member    Male      1971  \n",
       "...              ...                     ...     ...       ...  \n",
       "286853        CBD-06  Short-Term Pass Holder     NaN       NaN  \n",
       "286854         ID-04  Short-Term Pass Holder     NaN       NaN  \n",
       "286855         ID-04  Short-Term Pass Holder     NaN       NaN  \n",
       "286856         ID-04  Short-Term Pass Holder     NaN       NaN  \n",
       "286857         ID-04  Short-Term Pass Holder     NaN       NaN  \n",
       "\n",
       "[286858 rows x 10 columns]"
      ]
     },
     "execution_count": 3,
     "metadata": {},
     "output_type": "execute_result"
    }
   ],
   "source": [
    "# Import our data into pandas from CSV\n",
    "bike_trip_data_path = 'Resources/trip.csv'\n",
    "bike_trips_df = pd.read_csv(bike_trip_data_path, low_memory=False)\n",
    "bike_trips_df"
   ]
  },
  {
   "cell_type": "code",
   "execution_count": 11,
   "metadata": {},
   "outputs": [
    {
     "data": {
      "text/plain": [
       "stoptime             286858\n",
       "bikeid               286858\n",
       "tripduration         286858\n",
       "from_station_name    286858\n",
       "to_station_name      286858\n",
       "from_station_id      286858\n",
       "to_station_id        286858\n",
       "usertype             286858\n",
       "gender               181558\n",
       "birthyear            181554\n",
       "dtype: int64"
      ]
     },
     "execution_count": 11,
     "metadata": {},
     "output_type": "execute_result"
    }
   ],
   "source": [
    "bike_trips_df.count() #note missing values (NaN)"
   ]
  },
  {
   "cell_type": "code",
   "execution_count": 12,
   "metadata": {},
   "outputs": [
    {
     "data": {
      "text/plain": [
       "0.6329054793660975"
      ]
     },
     "execution_count": 12,
     "metadata": {},
     "output_type": "execute_result"
    }
   ],
   "source": [
    "181554/286858 #'gender' and 'birthyear' have many NaN (missing values)"
   ]
  },
  {
   "cell_type": "code",
   "execution_count": 17,
   "metadata": {},
   "outputs": [],
   "source": [
    "clean_bike_trips = bike_trips_df.dropna() #dropped 40% data!"
   ]
  },
  {
   "cell_type": "code",
   "execution_count": 18,
   "metadata": {},
   "outputs": [
    {
     "data": {
      "text/plain": [
       "stoptime             181554\n",
       "bikeid               181554\n",
       "tripduration         181554\n",
       "from_station_name    181554\n",
       "to_station_name      181554\n",
       "from_station_id      181554\n",
       "to_station_id        181554\n",
       "usertype             181554\n",
       "gender               181554\n",
       "birthyear            181554\n",
       "dtype: int64"
      ]
     },
     "execution_count": 18,
     "metadata": {},
     "output_type": "execute_result"
    }
   ],
   "source": [
    "clean_bike_trips.count()"
   ]
  },
  {
   "cell_type": "code",
   "execution_count": 21,
   "metadata": {},
   "outputs": [
    {
     "data": {
      "text/html": [
       "<div>\n",
       "<style scoped>\n",
       "    .dataframe tbody tr th:only-of-type {\n",
       "        vertical-align: middle;\n",
       "    }\n",
       "\n",
       "    .dataframe tbody tr th {\n",
       "        vertical-align: top;\n",
       "    }\n",
       "\n",
       "    .dataframe thead th {\n",
       "        text-align: right;\n",
       "    }\n",
       "</style>\n",
       "<table border=\"1\" class=\"dataframe\">\n",
       "  <thead>\n",
       "    <tr style=\"text-align: right;\">\n",
       "      <th></th>\n",
       "      <th>stoptime</th>\n",
       "      <th>bikeid</th>\n",
       "      <th>tripduration</th>\n",
       "      <th>from_station_name</th>\n",
       "      <th>to_station_name</th>\n",
       "      <th>from_station_id</th>\n",
       "      <th>to_station_id</th>\n",
       "      <th>usertype</th>\n",
       "      <th>birthyear</th>\n",
       "    </tr>\n",
       "    <tr>\n",
       "      <th>gender</th>\n",
       "      <th></th>\n",
       "      <th></th>\n",
       "      <th></th>\n",
       "      <th></th>\n",
       "      <th></th>\n",
       "      <th></th>\n",
       "      <th></th>\n",
       "      <th></th>\n",
       "      <th></th>\n",
       "    </tr>\n",
       "  </thead>\n",
       "  <tbody>\n",
       "    <tr>\n",
       "      <th>Female</th>\n",
       "      <td>37558</td>\n",
       "      <td>37558</td>\n",
       "      <td>37558</td>\n",
       "      <td>37558</td>\n",
       "      <td>37558</td>\n",
       "      <td>37558</td>\n",
       "      <td>37558</td>\n",
       "      <td>37558</td>\n",
       "      <td>37558</td>\n",
       "    </tr>\n",
       "    <tr>\n",
       "      <th>Male</th>\n",
       "      <td>140564</td>\n",
       "      <td>140564</td>\n",
       "      <td>140564</td>\n",
       "      <td>140564</td>\n",
       "      <td>140564</td>\n",
       "      <td>140564</td>\n",
       "      <td>140564</td>\n",
       "      <td>140564</td>\n",
       "      <td>140564</td>\n",
       "    </tr>\n",
       "    <tr>\n",
       "      <th>Other</th>\n",
       "      <td>3431</td>\n",
       "      <td>3431</td>\n",
       "      <td>3431</td>\n",
       "      <td>3431</td>\n",
       "      <td>3431</td>\n",
       "      <td>3431</td>\n",
       "      <td>3431</td>\n",
       "      <td>3431</td>\n",
       "      <td>3431</td>\n",
       "    </tr>\n",
       "    <tr>\n",
       "      <th>stoptime</th>\n",
       "      <td>1</td>\n",
       "      <td>1</td>\n",
       "      <td>1</td>\n",
       "      <td>1</td>\n",
       "      <td>1</td>\n",
       "      <td>1</td>\n",
       "      <td>1</td>\n",
       "      <td>1</td>\n",
       "      <td>1</td>\n",
       "    </tr>\n",
       "  </tbody>\n",
       "</table>\n",
       "</div>"
      ],
      "text/plain": [
       "          stoptime  bikeid  tripduration  from_station_name  to_station_name  \\\n",
       "gender                                                                         \n",
       "Female       37558   37558         37558              37558            37558   \n",
       "Male        140564  140564        140564             140564           140564   \n",
       "Other         3431    3431          3431               3431             3431   \n",
       "stoptime         1       1             1                  1                1   \n",
       "\n",
       "          from_station_id  to_station_id  usertype  birthyear  \n",
       "gender                                                         \n",
       "Female              37558          37558     37558      37558  \n",
       "Male               140564         140564    140564     140564  \n",
       "Other                3431           3431      3431       3431  \n",
       "stoptime                1              1         1          1  "
      ]
     },
     "execution_count": 21,
     "metadata": {},
     "output_type": "execute_result"
    }
   ],
   "source": [
    "# Split up our data into groups based upon 'gender'\n",
    "gender_groups = clean_bike_trips.groupby('gender') #'gender' = Index\n",
    "gender_trips = gender_groups.count()\n",
    "gender_trips"
   ]
  },
  {
   "cell_type": "code",
   "execution_count": 19,
   "metadata": {},
   "outputs": [
    {
     "data": {
      "text/plain": [
       "181554"
      ]
     },
     "execution_count": 19,
     "metadata": {},
     "output_type": "execute_result"
    }
   ],
   "source": [
    "# Find out how many of each gender took bike trips\n",
    "# Count how many times each maker appears in our group\n",
    "#bike_trips_gender_groups = clean_bike_trips['gender'].count() #must add this line to extract count of makers -> Series\n",
    "#bike_trips_gender_groups"
   ]
  },
  {
   "cell_type": "code",
   "execution_count": 24,
   "metadata": {},
   "outputs": [
    {
     "data": {
      "text/html": [
       "<div>\n",
       "<style scoped>\n",
       "    .dataframe tbody tr th:only-of-type {\n",
       "        vertical-align: middle;\n",
       "    }\n",
       "\n",
       "    .dataframe tbody tr th {\n",
       "        vertical-align: top;\n",
       "    }\n",
       "\n",
       "    .dataframe thead th {\n",
       "        text-align: right;\n",
       "    }\n",
       "</style>\n",
       "<table border=\"1\" class=\"dataframe\">\n",
       "  <thead>\n",
       "    <tr style=\"text-align: right;\">\n",
       "      <th></th>\n",
       "      <th>stoptime</th>\n",
       "      <th>bikeid</th>\n",
       "      <th>tripduration</th>\n",
       "      <th>from_station_name</th>\n",
       "      <th>to_station_name</th>\n",
       "      <th>from_station_id</th>\n",
       "      <th>to_station_id</th>\n",
       "      <th>usertype</th>\n",
       "      <th>birthyear</th>\n",
       "    </tr>\n",
       "    <tr>\n",
       "      <th>gender</th>\n",
       "      <th></th>\n",
       "      <th></th>\n",
       "      <th></th>\n",
       "      <th></th>\n",
       "      <th></th>\n",
       "      <th></th>\n",
       "      <th></th>\n",
       "      <th></th>\n",
       "      <th></th>\n",
       "    </tr>\n",
       "  </thead>\n",
       "  <tbody>\n",
       "    <tr>\n",
       "      <th>Female</th>\n",
       "      <td>37558</td>\n",
       "      <td>37558</td>\n",
       "      <td>37558</td>\n",
       "      <td>37558</td>\n",
       "      <td>37558</td>\n",
       "      <td>37558</td>\n",
       "      <td>37558</td>\n",
       "      <td>37558</td>\n",
       "      <td>37558</td>\n",
       "    </tr>\n",
       "    <tr>\n",
       "      <th>Male</th>\n",
       "      <td>140564</td>\n",
       "      <td>140564</td>\n",
       "      <td>140564</td>\n",
       "      <td>140564</td>\n",
       "      <td>140564</td>\n",
       "      <td>140564</td>\n",
       "      <td>140564</td>\n",
       "      <td>140564</td>\n",
       "      <td>140564</td>\n",
       "    </tr>\n",
       "    <tr>\n",
       "      <th>Other</th>\n",
       "      <td>3431</td>\n",
       "      <td>3431</td>\n",
       "      <td>3431</td>\n",
       "      <td>3431</td>\n",
       "      <td>3431</td>\n",
       "      <td>3431</td>\n",
       "      <td>3431</td>\n",
       "      <td>3431</td>\n",
       "      <td>3431</td>\n",
       "    </tr>\n",
       "  </tbody>\n",
       "</table>\n",
       "</div>"
      ],
      "text/plain": [
       "        stoptime  bikeid  tripduration  from_station_name  to_station_name  \\\n",
       "gender                                                                       \n",
       "Female     37558   37558         37558              37558            37558   \n",
       "Male      140564  140564        140564             140564           140564   \n",
       "Other       3431    3431          3431               3431             3431   \n",
       "\n",
       "        from_station_id  to_station_id  usertype  birthyear  \n",
       "gender                                                       \n",
       "Female            37558          37558     37558      37558  \n",
       "Male             140564         140564    140564     140564  \n",
       "Other              3431           3431      3431       3431  "
      ]
     },
     "execution_count": 24,
     "metadata": {},
     "output_type": "execute_result"
    }
   ],
   "source": [
    "# Drop the 'stoptime' row that is contained within our group\n",
    "gender_trips_mod = gender_trips.drop(gender_trips.index[3])\n",
    "gender_trips_mod"
   ]
  },
  {
   "cell_type": "code",
   "execution_count": 25,
   "metadata": {},
   "outputs": [
    {
     "data": {
      "application/javascript": [
       "/* Put everything inside the global mpl namespace */\n",
       "/* global mpl */\n",
       "window.mpl = {};\n",
       "\n",
       "mpl.get_websocket_type = function () {\n",
       "    if (typeof WebSocket !== 'undefined') {\n",
       "        return WebSocket;\n",
       "    } else if (typeof MozWebSocket !== 'undefined') {\n",
       "        return MozWebSocket;\n",
       "    } else {\n",
       "        alert(\n",
       "            'Your browser does not have WebSocket support. ' +\n",
       "                'Please try Chrome, Safari or Firefox ≥ 6. ' +\n",
       "                'Firefox 4 and 5 are also supported but you ' +\n",
       "                'have to enable WebSockets in about:config.'\n",
       "        );\n",
       "    }\n",
       "};\n",
       "\n",
       "mpl.figure = function (figure_id, websocket, ondownload, parent_element) {\n",
       "    this.id = figure_id;\n",
       "\n",
       "    this.ws = websocket;\n",
       "\n",
       "    this.supports_binary = this.ws.binaryType !== undefined;\n",
       "\n",
       "    if (!this.supports_binary) {\n",
       "        var warnings = document.getElementById('mpl-warnings');\n",
       "        if (warnings) {\n",
       "            warnings.style.display = 'block';\n",
       "            warnings.textContent =\n",
       "                'This browser does not support binary websocket messages. ' +\n",
       "                'Performance may be slow.';\n",
       "        }\n",
       "    }\n",
       "\n",
       "    this.imageObj = new Image();\n",
       "\n",
       "    this.context = undefined;\n",
       "    this.message = undefined;\n",
       "    this.canvas = undefined;\n",
       "    this.rubberband_canvas = undefined;\n",
       "    this.rubberband_context = undefined;\n",
       "    this.format_dropdown = undefined;\n",
       "\n",
       "    this.image_mode = 'full';\n",
       "\n",
       "    this.root = document.createElement('div');\n",
       "    this.root.setAttribute('style', 'display: inline-block');\n",
       "    this._root_extra_style(this.root);\n",
       "\n",
       "    parent_element.appendChild(this.root);\n",
       "\n",
       "    this._init_header(this);\n",
       "    this._init_canvas(this);\n",
       "    this._init_toolbar(this);\n",
       "\n",
       "    var fig = this;\n",
       "\n",
       "    this.waiting = false;\n",
       "\n",
       "    this.ws.onopen = function () {\n",
       "        fig.send_message('supports_binary', { value: fig.supports_binary });\n",
       "        fig.send_message('send_image_mode', {});\n",
       "        if (fig.ratio !== 1) {\n",
       "            fig.send_message('set_device_pixel_ratio', {\n",
       "                device_pixel_ratio: fig.ratio,\n",
       "            });\n",
       "        }\n",
       "        fig.send_message('refresh', {});\n",
       "    };\n",
       "\n",
       "    this.imageObj.onload = function () {\n",
       "        if (fig.image_mode === 'full') {\n",
       "            // Full images could contain transparency (where diff images\n",
       "            // almost always do), so we need to clear the canvas so that\n",
       "            // there is no ghosting.\n",
       "            fig.context.clearRect(0, 0, fig.canvas.width, fig.canvas.height);\n",
       "        }\n",
       "        fig.context.drawImage(fig.imageObj, 0, 0);\n",
       "    };\n",
       "\n",
       "    this.imageObj.onunload = function () {\n",
       "        fig.ws.close();\n",
       "    };\n",
       "\n",
       "    this.ws.onmessage = this._make_on_message_function(this);\n",
       "\n",
       "    this.ondownload = ondownload;\n",
       "};\n",
       "\n",
       "mpl.figure.prototype._init_header = function () {\n",
       "    var titlebar = document.createElement('div');\n",
       "    titlebar.classList =\n",
       "        'ui-dialog-titlebar ui-widget-header ui-corner-all ui-helper-clearfix';\n",
       "    var titletext = document.createElement('div');\n",
       "    titletext.classList = 'ui-dialog-title';\n",
       "    titletext.setAttribute(\n",
       "        'style',\n",
       "        'width: 100%; text-align: center; padding: 3px;'\n",
       "    );\n",
       "    titlebar.appendChild(titletext);\n",
       "    this.root.appendChild(titlebar);\n",
       "    this.header = titletext;\n",
       "};\n",
       "\n",
       "mpl.figure.prototype._canvas_extra_style = function (_canvas_div) {};\n",
       "\n",
       "mpl.figure.prototype._root_extra_style = function (_canvas_div) {};\n",
       "\n",
       "mpl.figure.prototype._init_canvas = function () {\n",
       "    var fig = this;\n",
       "\n",
       "    var canvas_div = (this.canvas_div = document.createElement('div'));\n",
       "    canvas_div.setAttribute(\n",
       "        'style',\n",
       "        'border: 1px solid #ddd;' +\n",
       "            'box-sizing: content-box;' +\n",
       "            'clear: both;' +\n",
       "            'min-height: 1px;' +\n",
       "            'min-width: 1px;' +\n",
       "            'outline: 0;' +\n",
       "            'overflow: hidden;' +\n",
       "            'position: relative;' +\n",
       "            'resize: both;'\n",
       "    );\n",
       "\n",
       "    function on_keyboard_event_closure(name) {\n",
       "        return function (event) {\n",
       "            return fig.key_event(event, name);\n",
       "        };\n",
       "    }\n",
       "\n",
       "    canvas_div.addEventListener(\n",
       "        'keydown',\n",
       "        on_keyboard_event_closure('key_press')\n",
       "    );\n",
       "    canvas_div.addEventListener(\n",
       "        'keyup',\n",
       "        on_keyboard_event_closure('key_release')\n",
       "    );\n",
       "\n",
       "    this._canvas_extra_style(canvas_div);\n",
       "    this.root.appendChild(canvas_div);\n",
       "\n",
       "    var canvas = (this.canvas = document.createElement('canvas'));\n",
       "    canvas.classList.add('mpl-canvas');\n",
       "    canvas.setAttribute('style', 'box-sizing: content-box;');\n",
       "\n",
       "    this.context = canvas.getContext('2d');\n",
       "\n",
       "    var backingStore =\n",
       "        this.context.backingStorePixelRatio ||\n",
       "        this.context.webkitBackingStorePixelRatio ||\n",
       "        this.context.mozBackingStorePixelRatio ||\n",
       "        this.context.msBackingStorePixelRatio ||\n",
       "        this.context.oBackingStorePixelRatio ||\n",
       "        this.context.backingStorePixelRatio ||\n",
       "        1;\n",
       "\n",
       "    this.ratio = (window.devicePixelRatio || 1) / backingStore;\n",
       "\n",
       "    var rubberband_canvas = (this.rubberband_canvas = document.createElement(\n",
       "        'canvas'\n",
       "    ));\n",
       "    rubberband_canvas.setAttribute(\n",
       "        'style',\n",
       "        'box-sizing: content-box; position: absolute; left: 0; top: 0; z-index: 1;'\n",
       "    );\n",
       "\n",
       "    // Apply a ponyfill if ResizeObserver is not implemented by browser.\n",
       "    if (this.ResizeObserver === undefined) {\n",
       "        if (window.ResizeObserver !== undefined) {\n",
       "            this.ResizeObserver = window.ResizeObserver;\n",
       "        } else {\n",
       "            var obs = _JSXTOOLS_RESIZE_OBSERVER({});\n",
       "            this.ResizeObserver = obs.ResizeObserver;\n",
       "        }\n",
       "    }\n",
       "\n",
       "    this.resizeObserverInstance = new this.ResizeObserver(function (entries) {\n",
       "        var nentries = entries.length;\n",
       "        for (var i = 0; i < nentries; i++) {\n",
       "            var entry = entries[i];\n",
       "            var width, height;\n",
       "            if (entry.contentBoxSize) {\n",
       "                if (entry.contentBoxSize instanceof Array) {\n",
       "                    // Chrome 84 implements new version of spec.\n",
       "                    width = entry.contentBoxSize[0].inlineSize;\n",
       "                    height = entry.contentBoxSize[0].blockSize;\n",
       "                } else {\n",
       "                    // Firefox implements old version of spec.\n",
       "                    width = entry.contentBoxSize.inlineSize;\n",
       "                    height = entry.contentBoxSize.blockSize;\n",
       "                }\n",
       "            } else {\n",
       "                // Chrome <84 implements even older version of spec.\n",
       "                width = entry.contentRect.width;\n",
       "                height = entry.contentRect.height;\n",
       "            }\n",
       "\n",
       "            // Keep the size of the canvas and rubber band canvas in sync with\n",
       "            // the canvas container.\n",
       "            if (entry.devicePixelContentBoxSize) {\n",
       "                // Chrome 84 implements new version of spec.\n",
       "                canvas.setAttribute(\n",
       "                    'width',\n",
       "                    entry.devicePixelContentBoxSize[0].inlineSize\n",
       "                );\n",
       "                canvas.setAttribute(\n",
       "                    'height',\n",
       "                    entry.devicePixelContentBoxSize[0].blockSize\n",
       "                );\n",
       "            } else {\n",
       "                canvas.setAttribute('width', width * fig.ratio);\n",
       "                canvas.setAttribute('height', height * fig.ratio);\n",
       "            }\n",
       "            canvas.setAttribute(\n",
       "                'style',\n",
       "                'width: ' + width + 'px; height: ' + height + 'px;'\n",
       "            );\n",
       "\n",
       "            rubberband_canvas.setAttribute('width', width);\n",
       "            rubberband_canvas.setAttribute('height', height);\n",
       "\n",
       "            // And update the size in Python. We ignore the initial 0/0 size\n",
       "            // that occurs as the element is placed into the DOM, which should\n",
       "            // otherwise not happen due to the minimum size styling.\n",
       "            if (fig.ws.readyState == 1 && width != 0 && height != 0) {\n",
       "                fig.request_resize(width, height);\n",
       "            }\n",
       "        }\n",
       "    });\n",
       "    this.resizeObserverInstance.observe(canvas_div);\n",
       "\n",
       "    function on_mouse_event_closure(name) {\n",
       "        return function (event) {\n",
       "            return fig.mouse_event(event, name);\n",
       "        };\n",
       "    }\n",
       "\n",
       "    rubberband_canvas.addEventListener(\n",
       "        'mousedown',\n",
       "        on_mouse_event_closure('button_press')\n",
       "    );\n",
       "    rubberband_canvas.addEventListener(\n",
       "        'mouseup',\n",
       "        on_mouse_event_closure('button_release')\n",
       "    );\n",
       "    rubberband_canvas.addEventListener(\n",
       "        'dblclick',\n",
       "        on_mouse_event_closure('dblclick')\n",
       "    );\n",
       "    // Throttle sequential mouse events to 1 every 20ms.\n",
       "    rubberband_canvas.addEventListener(\n",
       "        'mousemove',\n",
       "        on_mouse_event_closure('motion_notify')\n",
       "    );\n",
       "\n",
       "    rubberband_canvas.addEventListener(\n",
       "        'mouseenter',\n",
       "        on_mouse_event_closure('figure_enter')\n",
       "    );\n",
       "    rubberband_canvas.addEventListener(\n",
       "        'mouseleave',\n",
       "        on_mouse_event_closure('figure_leave')\n",
       "    );\n",
       "\n",
       "    canvas_div.addEventListener('wheel', function (event) {\n",
       "        if (event.deltaY < 0) {\n",
       "            event.step = 1;\n",
       "        } else {\n",
       "            event.step = -1;\n",
       "        }\n",
       "        on_mouse_event_closure('scroll')(event);\n",
       "    });\n",
       "\n",
       "    canvas_div.appendChild(canvas);\n",
       "    canvas_div.appendChild(rubberband_canvas);\n",
       "\n",
       "    this.rubberband_context = rubberband_canvas.getContext('2d');\n",
       "    this.rubberband_context.strokeStyle = '#000000';\n",
       "\n",
       "    this._resize_canvas = function (width, height, forward) {\n",
       "        if (forward) {\n",
       "            canvas_div.style.width = width + 'px';\n",
       "            canvas_div.style.height = height + 'px';\n",
       "        }\n",
       "    };\n",
       "\n",
       "    // Disable right mouse context menu.\n",
       "    this.rubberband_canvas.addEventListener('contextmenu', function (_e) {\n",
       "        event.preventDefault();\n",
       "        return false;\n",
       "    });\n",
       "\n",
       "    function set_focus() {\n",
       "        canvas.focus();\n",
       "        canvas_div.focus();\n",
       "    }\n",
       "\n",
       "    window.setTimeout(set_focus, 100);\n",
       "};\n",
       "\n",
       "mpl.figure.prototype._init_toolbar = function () {\n",
       "    var fig = this;\n",
       "\n",
       "    var toolbar = document.createElement('div');\n",
       "    toolbar.classList = 'mpl-toolbar';\n",
       "    this.root.appendChild(toolbar);\n",
       "\n",
       "    function on_click_closure(name) {\n",
       "        return function (_event) {\n",
       "            return fig.toolbar_button_onclick(name);\n",
       "        };\n",
       "    }\n",
       "\n",
       "    function on_mouseover_closure(tooltip) {\n",
       "        return function (event) {\n",
       "            if (!event.currentTarget.disabled) {\n",
       "                return fig.toolbar_button_onmouseover(tooltip);\n",
       "            }\n",
       "        };\n",
       "    }\n",
       "\n",
       "    fig.buttons = {};\n",
       "    var buttonGroup = document.createElement('div');\n",
       "    buttonGroup.classList = 'mpl-button-group';\n",
       "    for (var toolbar_ind in mpl.toolbar_items) {\n",
       "        var name = mpl.toolbar_items[toolbar_ind][0];\n",
       "        var tooltip = mpl.toolbar_items[toolbar_ind][1];\n",
       "        var image = mpl.toolbar_items[toolbar_ind][2];\n",
       "        var method_name = mpl.toolbar_items[toolbar_ind][3];\n",
       "\n",
       "        if (!name) {\n",
       "            /* Instead of a spacer, we start a new button group. */\n",
       "            if (buttonGroup.hasChildNodes()) {\n",
       "                toolbar.appendChild(buttonGroup);\n",
       "            }\n",
       "            buttonGroup = document.createElement('div');\n",
       "            buttonGroup.classList = 'mpl-button-group';\n",
       "            continue;\n",
       "        }\n",
       "\n",
       "        var button = (fig.buttons[name] = document.createElement('button'));\n",
       "        button.classList = 'mpl-widget';\n",
       "        button.setAttribute('role', 'button');\n",
       "        button.setAttribute('aria-disabled', 'false');\n",
       "        button.addEventListener('click', on_click_closure(method_name));\n",
       "        button.addEventListener('mouseover', on_mouseover_closure(tooltip));\n",
       "\n",
       "        var icon_img = document.createElement('img');\n",
       "        icon_img.src = '_images/' + image + '.png';\n",
       "        icon_img.srcset = '_images/' + image + '_large.png 2x';\n",
       "        icon_img.alt = tooltip;\n",
       "        button.appendChild(icon_img);\n",
       "\n",
       "        buttonGroup.appendChild(button);\n",
       "    }\n",
       "\n",
       "    if (buttonGroup.hasChildNodes()) {\n",
       "        toolbar.appendChild(buttonGroup);\n",
       "    }\n",
       "\n",
       "    var fmt_picker = document.createElement('select');\n",
       "    fmt_picker.classList = 'mpl-widget';\n",
       "    toolbar.appendChild(fmt_picker);\n",
       "    this.format_dropdown = fmt_picker;\n",
       "\n",
       "    for (var ind in mpl.extensions) {\n",
       "        var fmt = mpl.extensions[ind];\n",
       "        var option = document.createElement('option');\n",
       "        option.selected = fmt === mpl.default_extension;\n",
       "        option.innerHTML = fmt;\n",
       "        fmt_picker.appendChild(option);\n",
       "    }\n",
       "\n",
       "    var status_bar = document.createElement('span');\n",
       "    status_bar.classList = 'mpl-message';\n",
       "    toolbar.appendChild(status_bar);\n",
       "    this.message = status_bar;\n",
       "};\n",
       "\n",
       "mpl.figure.prototype.request_resize = function (x_pixels, y_pixels) {\n",
       "    // Request matplotlib to resize the figure. Matplotlib will then trigger a resize in the client,\n",
       "    // which will in turn request a refresh of the image.\n",
       "    this.send_message('resize', { width: x_pixels, height: y_pixels });\n",
       "};\n",
       "\n",
       "mpl.figure.prototype.send_message = function (type, properties) {\n",
       "    properties['type'] = type;\n",
       "    properties['figure_id'] = this.id;\n",
       "    this.ws.send(JSON.stringify(properties));\n",
       "};\n",
       "\n",
       "mpl.figure.prototype.send_draw_message = function () {\n",
       "    if (!this.waiting) {\n",
       "        this.waiting = true;\n",
       "        this.ws.send(JSON.stringify({ type: 'draw', figure_id: this.id }));\n",
       "    }\n",
       "};\n",
       "\n",
       "mpl.figure.prototype.handle_save = function (fig, _msg) {\n",
       "    var format_dropdown = fig.format_dropdown;\n",
       "    var format = format_dropdown.options[format_dropdown.selectedIndex].value;\n",
       "    fig.ondownload(fig, format);\n",
       "};\n",
       "\n",
       "mpl.figure.prototype.handle_resize = function (fig, msg) {\n",
       "    var size = msg['size'];\n",
       "    if (size[0] !== fig.canvas.width || size[1] !== fig.canvas.height) {\n",
       "        fig._resize_canvas(size[0], size[1], msg['forward']);\n",
       "        fig.send_message('refresh', {});\n",
       "    }\n",
       "};\n",
       "\n",
       "mpl.figure.prototype.handle_rubberband = function (fig, msg) {\n",
       "    var x0 = msg['x0'] / fig.ratio;\n",
       "    var y0 = (fig.canvas.height - msg['y0']) / fig.ratio;\n",
       "    var x1 = msg['x1'] / fig.ratio;\n",
       "    var y1 = (fig.canvas.height - msg['y1']) / fig.ratio;\n",
       "    x0 = Math.floor(x0) + 0.5;\n",
       "    y0 = Math.floor(y0) + 0.5;\n",
       "    x1 = Math.floor(x1) + 0.5;\n",
       "    y1 = Math.floor(y1) + 0.5;\n",
       "    var min_x = Math.min(x0, x1);\n",
       "    var min_y = Math.min(y0, y1);\n",
       "    var width = Math.abs(x1 - x0);\n",
       "    var height = Math.abs(y1 - y0);\n",
       "\n",
       "    fig.rubberband_context.clearRect(\n",
       "        0,\n",
       "        0,\n",
       "        fig.canvas.width / fig.ratio,\n",
       "        fig.canvas.height / fig.ratio\n",
       "    );\n",
       "\n",
       "    fig.rubberband_context.strokeRect(min_x, min_y, width, height);\n",
       "};\n",
       "\n",
       "mpl.figure.prototype.handle_figure_label = function (fig, msg) {\n",
       "    // Updates the figure title.\n",
       "    fig.header.textContent = msg['label'];\n",
       "};\n",
       "\n",
       "mpl.figure.prototype.handle_cursor = function (fig, msg) {\n",
       "    fig.rubberband_canvas.style.cursor = msg['cursor'];\n",
       "};\n",
       "\n",
       "mpl.figure.prototype.handle_message = function (fig, msg) {\n",
       "    fig.message.textContent = msg['message'];\n",
       "};\n",
       "\n",
       "mpl.figure.prototype.handle_draw = function (fig, _msg) {\n",
       "    // Request the server to send over a new figure.\n",
       "    fig.send_draw_message();\n",
       "};\n",
       "\n",
       "mpl.figure.prototype.handle_image_mode = function (fig, msg) {\n",
       "    fig.image_mode = msg['mode'];\n",
       "};\n",
       "\n",
       "mpl.figure.prototype.handle_history_buttons = function (fig, msg) {\n",
       "    for (var key in msg) {\n",
       "        if (!(key in fig.buttons)) {\n",
       "            continue;\n",
       "        }\n",
       "        fig.buttons[key].disabled = !msg[key];\n",
       "        fig.buttons[key].setAttribute('aria-disabled', !msg[key]);\n",
       "    }\n",
       "};\n",
       "\n",
       "mpl.figure.prototype.handle_navigate_mode = function (fig, msg) {\n",
       "    if (msg['mode'] === 'PAN') {\n",
       "        fig.buttons['Pan'].classList.add('active');\n",
       "        fig.buttons['Zoom'].classList.remove('active');\n",
       "    } else if (msg['mode'] === 'ZOOM') {\n",
       "        fig.buttons['Pan'].classList.remove('active');\n",
       "        fig.buttons['Zoom'].classList.add('active');\n",
       "    } else {\n",
       "        fig.buttons['Pan'].classList.remove('active');\n",
       "        fig.buttons['Zoom'].classList.remove('active');\n",
       "    }\n",
       "};\n",
       "\n",
       "mpl.figure.prototype.updated_canvas_event = function () {\n",
       "    // Called whenever the canvas gets updated.\n",
       "    this.send_message('ack', {});\n",
       "};\n",
       "\n",
       "// A function to construct a web socket function for onmessage handling.\n",
       "// Called in the figure constructor.\n",
       "mpl.figure.prototype._make_on_message_function = function (fig) {\n",
       "    return function socket_on_message(evt) {\n",
       "        if (evt.data instanceof Blob) {\n",
       "            var img = evt.data;\n",
       "            if (img.type !== 'image/png') {\n",
       "                /* FIXME: We get \"Resource interpreted as Image but\n",
       "                 * transferred with MIME type text/plain:\" errors on\n",
       "                 * Chrome.  But how to set the MIME type?  It doesn't seem\n",
       "                 * to be part of the websocket stream */\n",
       "                img.type = 'image/png';\n",
       "            }\n",
       "\n",
       "            /* Free the memory for the previous frames */\n",
       "            if (fig.imageObj.src) {\n",
       "                (window.URL || window.webkitURL).revokeObjectURL(\n",
       "                    fig.imageObj.src\n",
       "                );\n",
       "            }\n",
       "\n",
       "            fig.imageObj.src = (window.URL || window.webkitURL).createObjectURL(\n",
       "                img\n",
       "            );\n",
       "            fig.updated_canvas_event();\n",
       "            fig.waiting = false;\n",
       "            return;\n",
       "        } else if (\n",
       "            typeof evt.data === 'string' &&\n",
       "            evt.data.slice(0, 21) === 'data:image/png;base64'\n",
       "        ) {\n",
       "            fig.imageObj.src = evt.data;\n",
       "            fig.updated_canvas_event();\n",
       "            fig.waiting = false;\n",
       "            return;\n",
       "        }\n",
       "\n",
       "        var msg = JSON.parse(evt.data);\n",
       "        var msg_type = msg['type'];\n",
       "\n",
       "        // Call the  \"handle_{type}\" callback, which takes\n",
       "        // the figure and JSON message as its only arguments.\n",
       "        try {\n",
       "            var callback = fig['handle_' + msg_type];\n",
       "        } catch (e) {\n",
       "            console.log(\n",
       "                \"No handler for the '\" + msg_type + \"' message type: \",\n",
       "                msg\n",
       "            );\n",
       "            return;\n",
       "        }\n",
       "\n",
       "        if (callback) {\n",
       "            try {\n",
       "                // console.log(\"Handling '\" + msg_type + \"' message: \", msg);\n",
       "                callback(fig, msg);\n",
       "            } catch (e) {\n",
       "                console.log(\n",
       "                    \"Exception inside the 'handler_\" + msg_type + \"' callback:\",\n",
       "                    e,\n",
       "                    e.stack,\n",
       "                    msg\n",
       "                );\n",
       "            }\n",
       "        }\n",
       "    };\n",
       "};\n",
       "\n",
       "// from https://stackoverflow.com/questions/1114465/getting-mouse-location-in-canvas\n",
       "mpl.findpos = function (e) {\n",
       "    //this section is from http://www.quirksmode.org/js/events_properties.html\n",
       "    var targ;\n",
       "    if (!e) {\n",
       "        e = window.event;\n",
       "    }\n",
       "    if (e.target) {\n",
       "        targ = e.target;\n",
       "    } else if (e.srcElement) {\n",
       "        targ = e.srcElement;\n",
       "    }\n",
       "    if (targ.nodeType === 3) {\n",
       "        // defeat Safari bug\n",
       "        targ = targ.parentNode;\n",
       "    }\n",
       "\n",
       "    // pageX,Y are the mouse positions relative to the document\n",
       "    var boundingRect = targ.getBoundingClientRect();\n",
       "    var x = e.pageX - (boundingRect.left + document.body.scrollLeft);\n",
       "    var y = e.pageY - (boundingRect.top + document.body.scrollTop);\n",
       "\n",
       "    return { x: x, y: y };\n",
       "};\n",
       "\n",
       "/*\n",
       " * return a copy of an object with only non-object keys\n",
       " * we need this to avoid circular references\n",
       " * https://stackoverflow.com/a/24161582/3208463\n",
       " */\n",
       "function simpleKeys(original) {\n",
       "    return Object.keys(original).reduce(function (obj, key) {\n",
       "        if (typeof original[key] !== 'object') {\n",
       "            obj[key] = original[key];\n",
       "        }\n",
       "        return obj;\n",
       "    }, {});\n",
       "}\n",
       "\n",
       "mpl.figure.prototype.mouse_event = function (event, name) {\n",
       "    var canvas_pos = mpl.findpos(event);\n",
       "\n",
       "    if (name === 'button_press') {\n",
       "        this.canvas.focus();\n",
       "        this.canvas_div.focus();\n",
       "    }\n",
       "\n",
       "    var x = canvas_pos.x * this.ratio;\n",
       "    var y = canvas_pos.y * this.ratio;\n",
       "\n",
       "    this.send_message(name, {\n",
       "        x: x,\n",
       "        y: y,\n",
       "        button: event.button,\n",
       "        step: event.step,\n",
       "        guiEvent: simpleKeys(event),\n",
       "    });\n",
       "\n",
       "    /* This prevents the web browser from automatically changing to\n",
       "     * the text insertion cursor when the button is pressed.  We want\n",
       "     * to control all of the cursor setting manually through the\n",
       "     * 'cursor' event from matplotlib */\n",
       "    event.preventDefault();\n",
       "    return false;\n",
       "};\n",
       "\n",
       "mpl.figure.prototype._key_event_extra = function (_event, _name) {\n",
       "    // Handle any extra behaviour associated with a key event\n",
       "};\n",
       "\n",
       "mpl.figure.prototype.key_event = function (event, name) {\n",
       "    // Prevent repeat events\n",
       "    if (name === 'key_press') {\n",
       "        if (event.key === this._key) {\n",
       "            return;\n",
       "        } else {\n",
       "            this._key = event.key;\n",
       "        }\n",
       "    }\n",
       "    if (name === 'key_release') {\n",
       "        this._key = null;\n",
       "    }\n",
       "\n",
       "    var value = '';\n",
       "    if (event.ctrlKey && event.key !== 'Control') {\n",
       "        value += 'ctrl+';\n",
       "    }\n",
       "    else if (event.altKey && event.key !== 'Alt') {\n",
       "        value += 'alt+';\n",
       "    }\n",
       "    else if (event.shiftKey && event.key !== 'Shift') {\n",
       "        value += 'shift+';\n",
       "    }\n",
       "\n",
       "    value += 'k' + event.key;\n",
       "\n",
       "    this._key_event_extra(event, name);\n",
       "\n",
       "    this.send_message(name, { key: value, guiEvent: simpleKeys(event) });\n",
       "    return false;\n",
       "};\n",
       "\n",
       "mpl.figure.prototype.toolbar_button_onclick = function (name) {\n",
       "    if (name === 'download') {\n",
       "        this.handle_save(this, null);\n",
       "    } else {\n",
       "        this.send_message('toolbar_button', { name: name });\n",
       "    }\n",
       "};\n",
       "\n",
       "mpl.figure.prototype.toolbar_button_onmouseover = function (tooltip) {\n",
       "    this.message.textContent = tooltip;\n",
       "};\n",
       "\n",
       "///////////////// REMAINING CONTENT GENERATED BY embed_js.py /////////////////\n",
       "// prettier-ignore\n",
       "var _JSXTOOLS_RESIZE_OBSERVER=function(A){var t,i=new WeakMap,n=new WeakMap,a=new WeakMap,r=new WeakMap,o=new Set;function s(e){if(!(this instanceof s))throw new TypeError(\"Constructor requires 'new' operator\");i.set(this,e)}function h(){throw new TypeError(\"Function is not a constructor\")}function c(e,t,i,n){e=0 in arguments?Number(arguments[0]):0,t=1 in arguments?Number(arguments[1]):0,i=2 in arguments?Number(arguments[2]):0,n=3 in arguments?Number(arguments[3]):0,this.right=(this.x=this.left=e)+(this.width=i),this.bottom=(this.y=this.top=t)+(this.height=n),Object.freeze(this)}function d(){t=requestAnimationFrame(d);var s=new WeakMap,p=new Set;o.forEach((function(t){r.get(t).forEach((function(i){var r=t instanceof window.SVGElement,o=a.get(t),d=r?0:parseFloat(o.paddingTop),f=r?0:parseFloat(o.paddingRight),l=r?0:parseFloat(o.paddingBottom),u=r?0:parseFloat(o.paddingLeft),g=r?0:parseFloat(o.borderTopWidth),m=r?0:parseFloat(o.borderRightWidth),w=r?0:parseFloat(o.borderBottomWidth),b=u+f,F=d+l,v=(r?0:parseFloat(o.borderLeftWidth))+m,W=g+w,y=r?0:t.offsetHeight-W-t.clientHeight,E=r?0:t.offsetWidth-v-t.clientWidth,R=b+v,z=F+W,M=r?t.width:parseFloat(o.width)-R-E,O=r?t.height:parseFloat(o.height)-z-y;if(n.has(t)){var k=n.get(t);if(k[0]===M&&k[1]===O)return}n.set(t,[M,O]);var S=Object.create(h.prototype);S.target=t,S.contentRect=new c(u,d,M,O),s.has(i)||(s.set(i,[]),p.add(i)),s.get(i).push(S)}))})),p.forEach((function(e){i.get(e).call(e,s.get(e),e)}))}return s.prototype.observe=function(i){if(i instanceof window.Element){r.has(i)||(r.set(i,new Set),o.add(i),a.set(i,window.getComputedStyle(i)));var n=r.get(i);n.has(this)||n.add(this),cancelAnimationFrame(t),t=requestAnimationFrame(d)}},s.prototype.unobserve=function(i){if(i instanceof window.Element&&r.has(i)){var n=r.get(i);n.has(this)&&(n.delete(this),n.size||(r.delete(i),o.delete(i))),n.size||r.delete(i),o.size||cancelAnimationFrame(t)}},A.DOMRectReadOnly=c,A.ResizeObserver=s,A.ResizeObserverEntry=h,A}; // eslint-disable-line\n",
       "mpl.toolbar_items = [[\"Home\", \"Reset original view\", \"fa fa-home icon-home\", \"home\"], [\"Back\", \"Back to previous view\", \"fa fa-arrow-left icon-arrow-left\", \"back\"], [\"Forward\", \"Forward to next view\", \"fa fa-arrow-right icon-arrow-right\", \"forward\"], [\"\", \"\", \"\", \"\"], [\"Pan\", \"Left button pans, Right button zooms\\nx/y fixes axis, CTRL fixes aspect\", \"fa fa-arrows icon-move\", \"pan\"], [\"Zoom\", \"Zoom to rectangle\\nx/y fixes axis\", \"fa fa-square-o icon-check-empty\", \"zoom\"], [\"\", \"\", \"\", \"\"], [\"Download\", \"Download plot\", \"fa fa-floppy-o icon-save\", \"download\"]];\n",
       "\n",
       "mpl.extensions = [\"eps\", \"jpeg\", \"pgf\", \"pdf\", \"png\", \"ps\", \"raw\", \"svg\", \"tif\"];\n",
       "\n",
       "mpl.default_extension = \"png\";/* global mpl */\n",
       "\n",
       "var comm_websocket_adapter = function (comm) {\n",
       "    // Create a \"websocket\"-like object which calls the given IPython comm\n",
       "    // object with the appropriate methods. Currently this is a non binary\n",
       "    // socket, so there is still some room for performance tuning.\n",
       "    var ws = {};\n",
       "\n",
       "    ws.binaryType = comm.kernel.ws.binaryType;\n",
       "    ws.readyState = comm.kernel.ws.readyState;\n",
       "    function updateReadyState(_event) {\n",
       "        if (comm.kernel.ws) {\n",
       "            ws.readyState = comm.kernel.ws.readyState;\n",
       "        } else {\n",
       "            ws.readyState = 3; // Closed state.\n",
       "        }\n",
       "    }\n",
       "    comm.kernel.ws.addEventListener('open', updateReadyState);\n",
       "    comm.kernel.ws.addEventListener('close', updateReadyState);\n",
       "    comm.kernel.ws.addEventListener('error', updateReadyState);\n",
       "\n",
       "    ws.close = function () {\n",
       "        comm.close();\n",
       "    };\n",
       "    ws.send = function (m) {\n",
       "        //console.log('sending', m);\n",
       "        comm.send(m);\n",
       "    };\n",
       "    // Register the callback with on_msg.\n",
       "    comm.on_msg(function (msg) {\n",
       "        //console.log('receiving', msg['content']['data'], msg);\n",
       "        var data = msg['content']['data'];\n",
       "        if (data['blob'] !== undefined) {\n",
       "            data = {\n",
       "                data: new Blob(msg['buffers'], { type: data['blob'] }),\n",
       "            };\n",
       "        }\n",
       "        // Pass the mpl event to the overridden (by mpl) onmessage function.\n",
       "        ws.onmessage(data);\n",
       "    });\n",
       "    return ws;\n",
       "};\n",
       "\n",
       "mpl.mpl_figure_comm = function (comm, msg) {\n",
       "    // This is the function which gets called when the mpl process\n",
       "    // starts-up an IPython Comm through the \"matplotlib\" channel.\n",
       "\n",
       "    var id = msg.content.data.id;\n",
       "    // Get hold of the div created by the display call when the Comm\n",
       "    // socket was opened in Python.\n",
       "    var element = document.getElementById(id);\n",
       "    var ws_proxy = comm_websocket_adapter(comm);\n",
       "\n",
       "    function ondownload(figure, _format) {\n",
       "        window.open(figure.canvas.toDataURL());\n",
       "    }\n",
       "\n",
       "    var fig = new mpl.figure(id, ws_proxy, ondownload, element);\n",
       "\n",
       "    // Call onopen now - mpl needs it, as it is assuming we've passed it a real\n",
       "    // web socket which is closed, not our websocket->open comm proxy.\n",
       "    ws_proxy.onopen();\n",
       "\n",
       "    fig.parent_element = element;\n",
       "    fig.cell_info = mpl.find_output_cell(\"<div id='\" + id + \"'></div>\");\n",
       "    if (!fig.cell_info) {\n",
       "        console.error('Failed to find cell for figure', id, fig);\n",
       "        return;\n",
       "    }\n",
       "    fig.cell_info[0].output_area.element.on(\n",
       "        'cleared',\n",
       "        { fig: fig },\n",
       "        fig._remove_fig_handler\n",
       "    );\n",
       "};\n",
       "\n",
       "mpl.figure.prototype.handle_close = function (fig, msg) {\n",
       "    var width = fig.canvas.width / fig.ratio;\n",
       "    fig.cell_info[0].output_area.element.off(\n",
       "        'cleared',\n",
       "        fig._remove_fig_handler\n",
       "    );\n",
       "    fig.resizeObserverInstance.unobserve(fig.canvas_div);\n",
       "\n",
       "    // Update the output cell to use the data from the current canvas.\n",
       "    fig.push_to_output();\n",
       "    var dataURL = fig.canvas.toDataURL();\n",
       "    // Re-enable the keyboard manager in IPython - without this line, in FF,\n",
       "    // the notebook keyboard shortcuts fail.\n",
       "    IPython.keyboard_manager.enable();\n",
       "    fig.parent_element.innerHTML =\n",
       "        '<img src=\"' + dataURL + '\" width=\"' + width + '\">';\n",
       "    fig.close_ws(fig, msg);\n",
       "};\n",
       "\n",
       "mpl.figure.prototype.close_ws = function (fig, msg) {\n",
       "    fig.send_message('closing', msg);\n",
       "    // fig.ws.close()\n",
       "};\n",
       "\n",
       "mpl.figure.prototype.push_to_output = function (_remove_interactive) {\n",
       "    // Turn the data on the canvas into data in the output cell.\n",
       "    var width = this.canvas.width / this.ratio;\n",
       "    var dataURL = this.canvas.toDataURL();\n",
       "    this.cell_info[1]['text/html'] =\n",
       "        '<img src=\"' + dataURL + '\" width=\"' + width + '\">';\n",
       "};\n",
       "\n",
       "mpl.figure.prototype.updated_canvas_event = function () {\n",
       "    // Tell IPython that the notebook contents must change.\n",
       "    IPython.notebook.set_dirty(true);\n",
       "    this.send_message('ack', {});\n",
       "    var fig = this;\n",
       "    // Wait a second, then push the new image to the DOM so\n",
       "    // that it is saved nicely (might be nice to debounce this).\n",
       "    setTimeout(function () {\n",
       "        fig.push_to_output();\n",
       "    }, 1000);\n",
       "};\n",
       "\n",
       "mpl.figure.prototype._init_toolbar = function () {\n",
       "    var fig = this;\n",
       "\n",
       "    var toolbar = document.createElement('div');\n",
       "    toolbar.classList = 'btn-toolbar';\n",
       "    this.root.appendChild(toolbar);\n",
       "\n",
       "    function on_click_closure(name) {\n",
       "        return function (_event) {\n",
       "            return fig.toolbar_button_onclick(name);\n",
       "        };\n",
       "    }\n",
       "\n",
       "    function on_mouseover_closure(tooltip) {\n",
       "        return function (event) {\n",
       "            if (!event.currentTarget.disabled) {\n",
       "                return fig.toolbar_button_onmouseover(tooltip);\n",
       "            }\n",
       "        };\n",
       "    }\n",
       "\n",
       "    fig.buttons = {};\n",
       "    var buttonGroup = document.createElement('div');\n",
       "    buttonGroup.classList = 'btn-group';\n",
       "    var button;\n",
       "    for (var toolbar_ind in mpl.toolbar_items) {\n",
       "        var name = mpl.toolbar_items[toolbar_ind][0];\n",
       "        var tooltip = mpl.toolbar_items[toolbar_ind][1];\n",
       "        var image = mpl.toolbar_items[toolbar_ind][2];\n",
       "        var method_name = mpl.toolbar_items[toolbar_ind][3];\n",
       "\n",
       "        if (!name) {\n",
       "            /* Instead of a spacer, we start a new button group. */\n",
       "            if (buttonGroup.hasChildNodes()) {\n",
       "                toolbar.appendChild(buttonGroup);\n",
       "            }\n",
       "            buttonGroup = document.createElement('div');\n",
       "            buttonGroup.classList = 'btn-group';\n",
       "            continue;\n",
       "        }\n",
       "\n",
       "        button = fig.buttons[name] = document.createElement('button');\n",
       "        button.classList = 'btn btn-default';\n",
       "        button.href = '#';\n",
       "        button.title = name;\n",
       "        button.innerHTML = '<i class=\"fa ' + image + ' fa-lg\"></i>';\n",
       "        button.addEventListener('click', on_click_closure(method_name));\n",
       "        button.addEventListener('mouseover', on_mouseover_closure(tooltip));\n",
       "        buttonGroup.appendChild(button);\n",
       "    }\n",
       "\n",
       "    if (buttonGroup.hasChildNodes()) {\n",
       "        toolbar.appendChild(buttonGroup);\n",
       "    }\n",
       "\n",
       "    // Add the status bar.\n",
       "    var status_bar = document.createElement('span');\n",
       "    status_bar.classList = 'mpl-message pull-right';\n",
       "    toolbar.appendChild(status_bar);\n",
       "    this.message = status_bar;\n",
       "\n",
       "    // Add the close button to the window.\n",
       "    var buttongrp = document.createElement('div');\n",
       "    buttongrp.classList = 'btn-group inline pull-right';\n",
       "    button = document.createElement('button');\n",
       "    button.classList = 'btn btn-mini btn-primary';\n",
       "    button.href = '#';\n",
       "    button.title = 'Stop Interaction';\n",
       "    button.innerHTML = '<i class=\"fa fa-power-off icon-remove icon-large\"></i>';\n",
       "    button.addEventListener('click', function (_evt) {\n",
       "        fig.handle_close(fig, {});\n",
       "    });\n",
       "    button.addEventListener(\n",
       "        'mouseover',\n",
       "        on_mouseover_closure('Stop Interaction')\n",
       "    );\n",
       "    buttongrp.appendChild(button);\n",
       "    var titlebar = this.root.querySelector('.ui-dialog-titlebar');\n",
       "    titlebar.insertBefore(buttongrp, titlebar.firstChild);\n",
       "};\n",
       "\n",
       "mpl.figure.prototype._remove_fig_handler = function (event) {\n",
       "    var fig = event.data.fig;\n",
       "    if (event.target !== this) {\n",
       "        // Ignore bubbled events from children.\n",
       "        return;\n",
       "    }\n",
       "    fig.close_ws(fig, {});\n",
       "};\n",
       "\n",
       "mpl.figure.prototype._root_extra_style = function (el) {\n",
       "    el.style.boxSizing = 'content-box'; // override notebook setting of border-box.\n",
       "};\n",
       "\n",
       "mpl.figure.prototype._canvas_extra_style = function (el) {\n",
       "    // this is important to make the div 'focusable\n",
       "    el.setAttribute('tabindex', 0);\n",
       "    // reach out to IPython and tell the keyboard manager to turn it's self\n",
       "    // off when our div gets focus\n",
       "\n",
       "    // location in version 3\n",
       "    if (IPython.notebook.keyboard_manager) {\n",
       "        IPython.notebook.keyboard_manager.register_events(el);\n",
       "    } else {\n",
       "        // location in version 2\n",
       "        IPython.keyboard_manager.register_events(el);\n",
       "    }\n",
       "};\n",
       "\n",
       "mpl.figure.prototype._key_event_extra = function (event, _name) {\n",
       "    // Check for shift+enter\n",
       "    if (event.shiftKey && event.which === 13) {\n",
       "        this.canvas_div.blur();\n",
       "        // select the cell after this one\n",
       "        var index = IPython.notebook.find_cell_index(this.cell_info[0]);\n",
       "        IPython.notebook.select(index + 1);\n",
       "    }\n",
       "};\n",
       "\n",
       "mpl.figure.prototype.handle_save = function (fig, _msg) {\n",
       "    fig.ondownload(fig, null);\n",
       "};\n",
       "\n",
       "mpl.find_output_cell = function (html_output) {\n",
       "    // Return the cell and output element which can be found *uniquely* in the notebook.\n",
       "    // Note - this is a bit hacky, but it is done because the \"notebook_saving.Notebook\"\n",
       "    // IPython event is triggered only after the cells have been serialised, which for\n",
       "    // our purposes (turning an active figure into a static one), is too late.\n",
       "    var cells = IPython.notebook.get_cells();\n",
       "    var ncells = cells.length;\n",
       "    for (var i = 0; i < ncells; i++) {\n",
       "        var cell = cells[i];\n",
       "        if (cell.cell_type === 'code') {\n",
       "            for (var j = 0; j < cell.output_area.outputs.length; j++) {\n",
       "                var data = cell.output_area.outputs[j];\n",
       "                if (data.data) {\n",
       "                    // IPython >= 3 moved mimebundle to data attribute of output\n",
       "                    data = data.data;\n",
       "                }\n",
       "                if (data['text/html'] === html_output) {\n",
       "                    return [cell, data, j];\n",
       "                }\n",
       "            }\n",
       "        }\n",
       "    }\n",
       "};\n",
       "\n",
       "// Register the function which deals with the matplotlib target/channel.\n",
       "// The kernel may be null if the page has been refreshed.\n",
       "if (IPython.notebook.kernel !== null) {\n",
       "    IPython.notebook.kernel.comm_manager.register_target(\n",
       "        'matplotlib',\n",
       "        mpl.mpl_figure_comm\n",
       "    );\n",
       "}\n"
      ],
      "text/plain": [
       "<IPython.core.display.Javascript object>"
      ]
     },
     "metadata": {},
     "output_type": "display_data"
    },
    {
     "data": {
      "text/html": [
       "<img src=\"data:image/png;base64,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\" width=\"640\">"
      ],
      "text/plain": [
       "<IPython.core.display.HTML object>"
      ]
     },
     "metadata": {},
     "output_type": "display_data"
    },
    {
     "data": {
      "text/plain": [
       "Text(0, 0.5, 'Number of Trips Taken')"
      ]
     },
     "execution_count": 25,
     "metadata": {},
     "output_type": "execute_result"
    }
   ],
   "source": [
    "# Chart our data, give it a title, and label the axes\n",
    "gender_chart = gender_trips_mod.plot(kind=\"bar\", title=\"Bike Trips by Gender\")\n",
    "gender_chart.set_xlabel(\"Gender\")\n",
    "gender_chart.set_ylabel(\"Number of Trips Taken\")"
   ]
  },
  {
   "cell_type": "code",
   "execution_count": null,
   "metadata": {},
   "outputs": [],
   "source": [
    "plt.show()\n",
    "plt.tight_layout()"
   ]
  },
  {
   "cell_type": "code",
   "execution_count": null,
   "metadata": {},
   "outputs": [],
   "source": [
    "# Group our data based upon 'bikeid' and 'gender'\n",
    "\n",
    "# Create a new variable that holds the sum of our groups\n",
    "\n",
    "\n",
    "# Make a variable called bike_id and store a 'bikeid' in it\n",
    "bike_id = \"SEA00001\"\n",
    "\n",
    "# Collect the trips of the 'bikeid' above\n",
    "\n",
    "\n",
    "# Create a pie chart based upon the trip duration of that single bike\n",
    "\n"
   ]
  },
  {
   "cell_type": "markdown",
   "metadata": {},
   "source": [
    "<details>\n",
    "    <summary><strong>Activity 05 Solution ✅</strong></summary>\n",
    "    \n",
    "```python\n",
    "%matplotlib notebook\n",
    "\n",
    "# Import Dependencies\n",
    "import matplotlib.pyplot as plt\n",
    "import pandas as pd\n",
    "import numpy as np\n",
    "\n",
    "# Import our data into pandas from CSV\n",
    "bike_trip_data_path = 'Resources/trip.csv'\n",
    "bike_trips_df = pd.read_csv(bike_trip_data_path, low_memory=False)\n",
    "\n",
    "bike_trips_df.head()\n",
    "\n",
    "bike_trips_df.tail()\n",
    "\n",
    "# Check for null or NaNs.\n",
    "bike_trips_df.info()\n",
    "\n",
    "# Create a clean DataFrame after dropping the null values.\n",
    "clean_bike_trips_df = bike_trips_df.dropna()\n",
    "clean_bike_trips_df.head(10)\n",
    "\n",
    "# Check for null values again.\n",
    "clean_bike_trips_df.info()\n",
    "\n",
    "\n",
    "# Split up our data into groups based upon 'gender'\n",
    "gender_groups = clean_bike_trips_df.groupby('gender')\n",
    "\n",
    "# Find out how many of each gender took bike trips\n",
    "gender_trips = gender_groups['tripduration'].count()\n",
    "\n",
    "# Drop the 'stoptime' row that is contained within our group\n",
    "gender_trips = gender_trips.drop(gender_trips.index[3])\n",
    "\n",
    "# Chart our data, give it a title, and label the axes\n",
    "gender_chart = gender_trips.plot(kind=\"bar\", title=\"Bike Trips by Gender\")\n",
    "gender_chart.set_xlabel(\"Gender\")\n",
    "gender_chart.set_ylabel(\"Number of Trips Taken\")\n",
    "\n",
    "plt.show()\n",
    "plt.tight_layout()\n",
    "\n",
    "# Group our data based upon 'bikeid' and 'gender'\n",
    "bike_groups = clean_bike_trips_df.groupby(['bikeid','gender'])\n",
    "\n",
    "# Create a new variable that holds the sum of our groups\n",
    "sum_it_up = bike_groups.sum()\n",
    "sum_it_up.head(12)\n",
    "\n",
    "# Make a variable called bike_id and store a 'bikeid' in it\n",
    "bike_id = \"SEA00001\"\n",
    "\n",
    "# Collect the trips of the 'bikeid' above\n",
    "just_one_bike = sum_it_up.loc[bike_id]\n",
    "\n",
    "just_one_bike\n",
    "\n",
    "# Create a pie chart based upon the trip duration of that single bike\n",
    "bike_pie = just_one_bike.plot(kind=\"pie\", y='tripduration', title=(\"Trips of \" + bike_id))\n",
    "bike_pie.set_ylabel(\"Trip Duration\")\n",
    "\n",
    "plt.show()\n",
    "plt.axis(\"equal\")\n",
    "\n",
    "\n",
    "```\n",
    "</details>\n",
    "\n"
   ]
  },
  {
   "cell_type": "markdown",
   "metadata": {},
   "source": [
    "# Student Turn - Bike Trippin - 06 - 👩‍🎓👨‍🎓\n",
    "# Plotting Time Series Data with Resample\n",
    "\n",
    "## Instructions\n",
    "\n",
    "* Using the cell below and follow the instructions in each cell to import the data, split the data using the `groupby()`function, reset the index, create a pivot table using the `pivot()` function, filter the pivot table DataFrame on the given date range with the `loc[]` method, and resample the DataFrame using the `resample()` function.\n",
    "\n",
    "* Using the resampled DataFrame create mulitiple-line plot using Pandas and Matplotlib that visualizes the number of bike trips for each gender over 2015. \n",
    "\n",
    "* [Pandas Series reset_index documentation](https://pandas.pydata.org/pandas-docs/stable/reference/api/pandas.Series.reset_index.html). \n",
    "* [Pandas pivot() function documentation](https://pandas.pydata.org/pandas-docs/stable/reference/api/pandas.pivot.html).\n",
    "* [Pandas resample() function documentation](https://pandas.pydata.org/pandas-docs/stable/reference/api/pandas.DataFrame.resample.html).\n",
    "\n",
    "Data Source: [Cycle Share Dataset](https://www.kaggle.com/pronto/cycle-share-dataset#trip.csv).\n",
    "\n"
   ]
  },
  {
   "cell_type": "code",
   "execution_count": null,
   "metadata": {},
   "outputs": [],
   "source": [
    "\n",
    "# Import Dependencies\n",
    "import matplotlib.pyplot as plt\n",
    "import pandas as pd\n",
    "import numpy as np\n",
    "\n",
    "# Import our data into pandas from CSV\n",
    "bike_trip_data_path = './Resources/trip.csv'\n",
    "bike_trips_df = pd.read_csv(bike_trip_data_path, low_memory=False)\n",
    "\n",
    "bike_trips_df.head()\n"
   ]
  },
  {
   "cell_type": "code",
   "execution_count": null,
   "metadata": {},
   "outputs": [],
   "source": [
    "#  Get the names of the columns.\n",
    "\n",
    "# Check for null or NaNs.\n",
    "\n",
    "# Create a clean DataFrame after dropping the null values.\n",
    "\n",
    "\n",
    "\n"
   ]
  },
  {
   "cell_type": "code",
   "execution_count": null,
   "metadata": {},
   "outputs": [],
   "source": [
    "# Split up the data into groups based upon 'gender' and 'stoptime'\n",
    "# And, find out how many bike trips each gender took.\n"
   ]
  },
  {
   "cell_type": "code",
   "execution_count": null,
   "metadata": {},
   "outputs": [],
   "source": [
    "# Reset the index of the Pandas Series to convert to a DataFrame.\n",
    "\n",
    "\n",
    "# Get the datatypes for the DataFrame columns.\n"
   ]
  },
  {
   "cell_type": "code",
   "execution_count": null,
   "metadata": {},
   "outputs": [],
   "source": [
    "\n",
    "#  Change the 'stoptime' column to a datetime object.\n"
   ]
  },
  {
   "cell_type": "code",
   "execution_count": null,
   "metadata": {},
   "outputs": [],
   "source": [
    "# Check the datatypes for each column.\n",
    "\n"
   ]
  },
  {
   "cell_type": "code",
   "execution_count": null,
   "metadata": {},
   "outputs": [],
   "source": [
    "# Check the DataFrame.\n",
    "\n",
    "# Create a pivot table with the 'stoptime' as the index and the columns ='gender' with the trip counts in each row.\n",
    "\n",
    "#  Drop the stoptime column.\n",
    "\n",
    "\n"
   ]
  },
  {
   "cell_type": "code",
   "execution_count": null,
   "metadata": {},
   "outputs": [],
   "source": [
    "# Create a new DataFrame from the pivot table DataFrame by filtering for the given dates, '2015-01-01':'2015-12-31'. \n",
    "\n",
    "\n",
    "# Resample the DataFrame by the week. ie., \"W\", and get the trip counts for each week. \n",
    "\n"
   ]
  },
  {
   "cell_type": "code",
   "execution_count": null,
   "metadata": {},
   "outputs": [],
   "source": [
    "# Plot the resampled DataFrame.\n",
    "\n",
    "# Add a title \n",
    "\n",
    "#  Add a x- and y-axis label.\n",
    "\n"
   ]
  },
  {
   "cell_type": "markdown",
   "metadata": {},
   "source": [
    "<details>\n",
    "    <summary><strong>Activity 06 Solution ✅</strong></summary>\n",
    "    \n",
    "\n",
    "\n",
    "\n",
    "```python\n",
    "# Import Dependencies\n",
    "import matplotlib.pyplot as plt\n",
    "import pandas as pd\n",
    "import numpy as np\n",
    "\n",
    "# Import our data into pandas from CSV\n",
    "bike_trip_data_path = './Resources/trip.csv'\n",
    "bike_trips_df = pd.read_csv(bike_trip_data_path, low_memory=False)\n",
    "\n",
    "bike_trips_df.head()\n",
    "\n",
    "\n",
    "\n",
    "#  Get the names of the columns.\n",
    "bike_trips_df.columns\n",
    "\n",
    "# Check for null or NaNs.\n",
    "bike_trips_df.info()\n",
    "\n",
    "# Create a clean DataFrame after dropping the null values.\n",
    "clean_bike_trips_df = bike_trips_df.dropna()\n",
    "clean_bike_trips_df.head(5)\n",
    "\n",
    "\n",
    "\n",
    "\n",
    "\n",
    "# Split up the data into groups based upon 'gender' and 'stoptime'\n",
    "# And, find out how many bike trips each gender took.\n",
    "gender_stoptime = clean_bike_trips_df.groupby([\"gender\", \"stoptime\"]).count()['tripduration']\n",
    "\n",
    "gender_stoptime\n",
    "\n",
    "\n",
    "# Reset the index of the Pandas Series to convert to a DataFrame.\n",
    "\n",
    "gender_stoptime = gender_stoptime.reset_index()\n",
    "gender_stoptime.head(10)\n",
    "\n",
    "# Get the datatypes for the DataFrame columns.\n",
    "gender_stoptime.dtypes\n",
    "\n",
    "\n",
    "#  Change the 'stoptime' column to a datetime object.\n",
    "gender_stoptime['stoptime']= pd.to_datetime(gender_stoptime['stoptime'])\n",
    "\n",
    "\n",
    "# Check the datatypes for each column.\n",
    "gender_stoptime.dtypes\n",
    "\n",
    "\n",
    "\n",
    "\n",
    "# Check the DataFrame.\n",
    "gender_stoptime.head()\n",
    "\n",
    "# Create a pivot table with the 'stoptime' as the index and the columns ='gender' with the trip counts in each row.\n",
    "gender_stoptime_pivot = gender_stoptime.pivot(index=\"stoptime\", columns=\"gender\", values=\"tripduration\")\n",
    "gender_stoptime_pivot.head(10)\n",
    "\n",
    "#  Drop the stoptime column.\n",
    "gender_stoptime_pivot.drop('stoptime', axis=1, inplace=True)\n",
    "gender_stoptime_pivot\n",
    "\n",
    "\n",
    "\n",
    "# Create a new DataFrame from the pivot table DataFrame by filtering for the given dates, '2015-01-01':'2015-12-31'. \n",
    "tripcounts_Jan_Dec = gender_stoptime_pivot.loc['2015-01-01':'2015-12-31']\n",
    "tripcounts_Jan_Dec\n",
    "\n",
    "# Resample the DataFrame by the week. ie., \"W\", and get the trip counts for each week. \n",
    "weekly_rides_df = tripcounts_Jan_Dec.resample('W').count()\n",
    "weekly_rides_df.head(10)\n",
    "\n",
    "\n",
    "# Plot the resampled DataFrame.\n",
    "\n",
    "weekly_rides = weekly_rides_df.plot(figsize = (20,6))\n",
    "# Add a title \n",
    "weekly_rides.set_title(\"Number of Rides by Gender\")\n",
    "#  Add a x- and y-axis label.\n",
    "weekly_rides.set_xlabel(\"Month\")\n",
    "weekly_rides.set_ylabel(\"Rides\")\n",
    "\n",
    "plt.show()\n",
    "plt.tight_layout()\n",
    "```\n",
    "</details>\n"
   ]
  },
  {
   "cell_type": "markdown",
   "metadata": {},
   "source": [
    "# Extra resampling Practice"
   ]
  },
  {
   "cell_type": "code",
   "execution_count": null,
   "metadata": {},
   "outputs": [],
   "source": [
    "# Resampling Practice \n",
    "import numpy as np\n",
    "import pandas as pd\n",
    "\n",
    "index = pd.date_range('1/1/20', periods=20, freq='D')\n",
    "series = pd.Series(range(20), index=index)\n",
    "series\n"
   ]
  },
  {
   "cell_type": "code",
   "execution_count": null,
   "metadata": {},
   "outputs": [],
   "source": [
    "\n",
    "# Get the sum of the values for each day\n",
    "series.resample('D').sum()\n"
   ]
  },
  {
   "cell_type": "code",
   "execution_count": null,
   "metadata": {},
   "outputs": [],
   "source": [
    "\n",
    "#  Get the sum of the values for each week.\n",
    "series.resample('W').sum()\n"
   ]
  },
  {
   "cell_type": "code",
   "execution_count": null,
   "metadata": {},
   "outputs": [],
   "source": [
    "\n",
    "# Get the number of values for each week.\n",
    "series.resample('W').count()\n",
    "\n"
   ]
  },
  {
   "cell_type": "code",
   "execution_count": null,
   "metadata": {},
   "outputs": [],
   "source": [
    "# Get the mean of the values for each week.\n",
    "series.resample('W').mean()\n"
   ]
  },
  {
   "cell_type": "code",
   "execution_count": null,
   "metadata": {},
   "outputs": [],
   "source": [
    "\n",
    "# Get the mean of the values for the month.\n",
    "series.resample('M').mean()\n"
   ]
  }
 ],
 "metadata": {
  "kernelspec": {
   "display_name": "Python 3 (ipykernel)",
   "language": "python",
   "name": "python3"
  },
  "language_info": {
   "codemirror_mode": {
    "name": "ipython",
    "version": 3
   },
   "file_extension": ".py",
   "mimetype": "text/x-python",
   "name": "python",
   "nbconvert_exporter": "python",
   "pygments_lexer": "ipython3",
   "version": "3.7.13"
  }
 },
 "nbformat": 4,
 "nbformat_minor": 4
}
